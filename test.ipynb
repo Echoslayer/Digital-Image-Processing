{
 "cells": [
  {
   "cell_type": "code",
   "execution_count": 3,
   "metadata": {},
   "outputs": [
    {
     "name": "stdout",
     "output_type": "stream",
     "text": [
      "Collecting matplotlib\n",
      "  Using cached matplotlib-3.9.1-cp312-cp312-macosx_11_0_arm64.whl.metadata (11 kB)\n",
      "Collecting contourpy>=1.0.1 (from matplotlib)\n",
      "  Using cached contourpy-1.2.1-cp312-cp312-macosx_11_0_arm64.whl.metadata (5.8 kB)\n",
      "Collecting cycler>=0.10 (from matplotlib)\n",
      "  Using cached cycler-0.12.1-py3-none-any.whl.metadata (3.8 kB)\n",
      "Collecting fonttools>=4.22.0 (from matplotlib)\n",
      "  Using cached fonttools-4.53.1-cp312-cp312-macosx_11_0_arm64.whl.metadata (162 kB)\n",
      "Collecting kiwisolver>=1.3.1 (from matplotlib)\n",
      "  Using cached kiwisolver-1.4.5-cp312-cp312-macosx_11_0_arm64.whl.metadata (6.4 kB)\n",
      "Requirement already satisfied: numpy>=1.23 in /Users/xieweizhe/Desktop/MacCode/Environments/ToolkitsENV/lib/python3.12/site-packages (from matplotlib) (2.0.1)\n",
      "Requirement already satisfied: packaging>=20.0 in /Users/xieweizhe/Desktop/MacCode/Environments/ToolkitsENV/lib/python3.12/site-packages (from matplotlib) (24.1)\n",
      "Collecting pillow>=8 (from matplotlib)\n",
      "  Using cached pillow-10.4.0-cp312-cp312-macosx_11_0_arm64.whl.metadata (9.2 kB)\n",
      "Collecting pyparsing>=2.3.1 (from matplotlib)\n",
      "  Using cached pyparsing-3.1.2-py3-none-any.whl.metadata (5.1 kB)\n",
      "Requirement already satisfied: python-dateutil>=2.7 in /Users/xieweizhe/Desktop/MacCode/Environments/ToolkitsENV/lib/python3.12/site-packages (from matplotlib) (2.9.0.post0)\n",
      "Requirement already satisfied: six>=1.5 in /Users/xieweizhe/Desktop/MacCode/Environments/ToolkitsENV/lib/python3.12/site-packages (from python-dateutil>=2.7->matplotlib) (1.16.0)\n",
      "Using cached matplotlib-3.9.1-cp312-cp312-macosx_11_0_arm64.whl (7.8 MB)\n",
      "Using cached contourpy-1.2.1-cp312-cp312-macosx_11_0_arm64.whl (245 kB)\n",
      "Using cached cycler-0.12.1-py3-none-any.whl (8.3 kB)\n",
      "Using cached fonttools-4.53.1-cp312-cp312-macosx_11_0_arm64.whl (2.2 MB)\n",
      "Using cached kiwisolver-1.4.5-cp312-cp312-macosx_11_0_arm64.whl (64 kB)\n",
      "Using cached pillow-10.4.0-cp312-cp312-macosx_11_0_arm64.whl (3.4 MB)\n",
      "Using cached pyparsing-3.1.2-py3-none-any.whl (103 kB)\n",
      "Installing collected packages: pyparsing, pillow, kiwisolver, fonttools, cycler, contourpy, matplotlib\n",
      "Successfully installed contourpy-1.2.1 cycler-0.12.1 fonttools-4.53.1 kiwisolver-1.4.5 matplotlib-3.9.1 pillow-10.4.0 pyparsing-3.1.2\n"
     ]
    },
    {
     "name": "stderr",
     "output_type": "stream",
     "text": [
      "\n",
      "\u001b[1m[\u001b[0m\u001b[34;49mnotice\u001b[0m\u001b[1;39;49m]\u001b[0m\u001b[39;49m A new release of pip is available: \u001b[0m\u001b[31;49m24.0\u001b[0m\u001b[39;49m -> \u001b[0m\u001b[32;49m24.1.2\u001b[0m\n",
      "\u001b[1m[\u001b[0m\u001b[34;49mnotice\u001b[0m\u001b[1;39;49m]\u001b[0m\u001b[39;49m To update, run: \u001b[0m\u001b[32;49mpip install --upgrade pip\u001b[0m\n"
     ]
    }
   ],
   "source": [
    "import subprocess\n",
    "import sys\n",
    "\n",
    "def import_or_install(module_name):\n",
    "    try:\n",
    "        # 嘗試導入模組\n",
    "        __import__(module_name)\n",
    "    except ImportError:\n",
    "        # 如果模組不存在，則安裝它\n",
    "        subprocess.check_call([sys.executable, \"-m\", \"pip\", \"install\", module_name])\n",
    "\n",
    "# 測試範例\n",
    "import_or_install(\"scipy\")\n",
    "import_or_install(\"numpy\")\n",
    "import_or_install(\"matplotlib\")"
   ]
  },
  {
   "cell_type": "markdown",
   "metadata": {},
   "source": [
    "## 離散餘弦轉換（DCT）的範例"
   ]
  },
  {
   "cell_type": "code",
   "execution_count": 5,
   "metadata": {},
   "outputs": [
    {
     "data": {
      "image/png": "[encoded data removed]",
      "text/plain": [
       "<Figure size 1500x500 with 3 Axes>"
      ]
     },
     "metadata": {},
     "output_type": "display_data"
    }
   ],
   "source": [
    "import numpy as np\n",
    "from scipy.fftpack import dct, idct\n",
    "import matplotlib.pyplot as plt\n",
    "\n",
    "# 定義一個8x8的灰階影像\n",
    "image = np.array([\n",
    "    [52, 55, 61, 66, 70, 61, 64, 73],\n",
    "    [63, 59, 55, 90, 109, 85, 69, 72],\n",
    "    [62, 59, 68, 113, 144, 104, 66, 73],\n",
    "    [63, 58, 71, 122, 154, 106, 70, 69],\n",
    "    [67, 61, 68, 104, 126, 88, 68, 70],\n",
    "    [79, 65, 60, 70, 77, 68, 58, 75],\n",
    "    [85, 71, 64, 59, 55, 61, 65, 83],\n",
    "    [87, 79, 69, 68, 65, 76, 78, 94]\n",
    "])\n",
    "\n",
    "# 對每一列進行DCT\n",
    "dct_1d = dct(image, axis=0, norm='ortho')\n",
    "\n",
    "# 對每一行進行DCT\n",
    "dct_2d = dct(dct_1d, axis=1, norm='ortho')\n",
    "\n",
    "# 對每一列進行IDCT（逆DCT）\n",
    "idct_1d = idct(dct_2d, axis=0, norm='ortho')\n",
    "\n",
    "# 對每一行進行IDCT\n",
    "reconstructed_image = idct(idct_1d, axis=1, norm='ortho')\n",
    "\n",
    "# 繪製原始影像、DCT 係數矩陣和重建的影像\n",
    "fig, axs = plt.subplots(1, 3, figsize=(15, 5))\n",
    "\n",
    "# 原始影像\n",
    "axs[0].imshow(image, cmap='gray')\n",
    "axs[0].set_title('Origin')\n",
    "axs[0].axis('off')\n",
    "\n",
    "# DCT 係數矩陣\n",
    "axs[1].imshow(dct_2d, cmap='gray')\n",
    "axs[1].set_title('DCT Image')\n",
    "axs[1].axis('off')\n",
    "\n",
    "# 重建的影像\n",
    "axs[2].imshow(np.round(reconstructed_image).astype(int), cmap='gray')\n",
    "axs[2].set_title('Rebuild')\n",
    "axs[2].axis('off')\n",
    "\n",
    "plt.show()"
   ]
  }
 ],
 "metadata": {
  "kernelspec": {
   "display_name": "ToolkitJK",
   "language": "python",
   "name": "toolkitjk"
  },
  "language_info": {
   "codemirror_mode": {
    "name": "ipython",
    "version": 3
   },
   "file_extension": ".py",
   "mimetype": "text/x-python",
   "name": "python",
   "nbconvert_exporter": "python",
   "pygments_lexer": "ipython3",
   "version": "3.12.4"
  }
 },
 "nbformat": 4,
 "nbformat_minor": 2
}
