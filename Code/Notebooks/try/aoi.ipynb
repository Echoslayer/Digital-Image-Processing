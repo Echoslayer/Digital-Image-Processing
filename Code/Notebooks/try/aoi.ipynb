{
 "cells": [
  {
   "cell_type": "code",
   "execution_count": 47,
   "metadata": {
    "tags": [
     "Parameters",
     "parameters"
    ]
   },
   "outputs": [],
   "source": [
    "# Parameters\n",
    "param1 = 0"
   ]
  },
  {
   "cell_type": "code",
   "execution_count": 48,
   "metadata": {},
   "outputs": [],
   "source": [
    "import cv2  # 用於讀取圖片\n",
    "import numpy as np  # 用於數學運算\n",
    "import matplotlib.pyplot as plt  # 用於圖形顯示\n",
    "import pathlib"
   ]
  },
  {
   "cell_type": "code",
   "execution_count": 49,
   "metadata": {},
   "outputs": [],
   "source": [
    "def save_plt_image(image, save_params, print_image=False):\n",
    "    \"\"\"\n",
    "    使用Matplotlib保存圖像的函數。\n",
    "\n",
    "    該函數接收一個圖像（通常是NumPy數組）並根據給定的保存參數將其保存為文件。\n",
    "\n",
    "    Args:00\n",
    "        image (ndarray): 要保存的圖像數據。\n",
    "        save_params (dict): 保存參數的字典，包含以下鍵值對：\n",
    "            'folder_path' (str): 要保存圖像的文件夾路徑（默認為當前目錄）。\n",
    "            'name' (str): 保存的圖像文件名（默認為'image.jpg'）。\n",
    "            'cmap' (str): 顏色映射，用於顯示圖像（默認為'gray'灰度圖像）。\n",
    "            'figsize' (tuple): 圖像保存時的尺寸（以英寸為單位，默認為(10, 10)）。\n",
    "            'bbox_inches' (str or None): 保存時的邊界框設置（默認為None，不設置邊界，通常使用'tight'來去除多餘邊框）。\n",
    "\n",
    "    Example:\n",
    "        save_params = {\n",
    "            'folder_path': r\"F:\\Code\\Digital-Image-Processing\\Code\\Resources\\outputs\",\n",
    "            'name': 'image3.jpg',\n",
    "            'cmap': 'gray',\n",
    "            'figsize': (20, 20), \n",
    "            'bbox_inches': 'tight'\n",
    "        }\n",
    "        save_plt_image(image, save_params)\n",
    "    \"\"\"\n",
    "    \n",
    "    # 確保所有必要的保存參數都存在\n",
    "    \n",
    "    folder = pathlib.Path(save_params.get('folder_path', '.'))\n",
    "    \n",
    "    folder.mkdir(parents=True, exist_ok=True)  # 確保目錄存在\n",
    "    \n",
    "    name = save_params.get('name', 'image.jpg')\n",
    "\n",
    "\n",
    "    path = folder / name\n",
    "    cmap = save_params.get('cmap', 'gray')\n",
    "    figsize = save_params.get('figsize', (10, 10))\n",
    "    bbox_inches = save_params.get('bbox_inches', None)\n",
    "    \n",
    "    # 設置圖像的尺寸\n",
    "    plt.figure(figsize=figsize)\n",
    "    plt.imshow(image, cmap=cmap)\n",
    "    plt.axis('off')  # 隱藏坐標軸\n",
    "    \n",
    "    # 保存圖像\n",
    "    plt.savefig(path, bbox_inches=bbox_inches)\n",
    "    if not print_image:\n",
    "        plt.close()  # 關閉圖像窗口，釋放內存\n",
    "    print(f\"Image saved at {path}\")"
   ]
  },
  {
   "cell_type": "code",
   "execution_count": 50,
   "metadata": {},
   "outputs": [
    {
     "data": {
      "text/plain": [
       "'2024-08-27'"
      ]
     },
     "execution_count": 50,
     "metadata": {},
     "output_type": "execute_result"
    }
   ],
   "source": [
    "import datetime\n",
    "now = datetime.datetime.now()\n",
    "f\"{now.date()}\""
   ]
  },
  {
   "cell_type": "code",
   "execution_count": 51,
   "metadata": {},
   "outputs": [
    {
     "data": {
      "text/plain": [
       "'F:/Code/Digital-Image-Processing/Code/Resources/outputs/pdf/2024-08-27'"
      ]
     },
     "execution_count": 51,
     "metadata": {},
     "output_type": "execute_result"
    }
   ],
   "source": [
    "folder_path = pathlib.Path(r\"F:\\Code\\Digital-Image-Processing\\Code\\Resources\\outputs\\pdf\")\n",
    "folder_path = folder_path / f\"{now.date()}\"\n",
    "folder_path.mkdir(parents=True, exist_ok=True) # 確保目錄存在，不存在則創建\n",
    "folder_path.as_posix()"
   ]
  },
  {
   "cell_type": "code",
   "execution_count": 52,
   "metadata": {},
   "outputs": [],
   "source": [
    "template_folder_path = pathlib.Path(r\"F:\\Code\\Digital-Image-Processing\\Code\\Resources\\template\")\n",
    "template_folder_path.mkdir(parents=True, exist_ok=True)"
   ]
  },
  {
   "cell_type": "code",
   "execution_count": 53,
   "metadata": {},
   "outputs": [
    {
     "data": {
      "text/plain": [
       "['line_light_no_p.tif',\n",
       " 'line_light_ok_4cm.tif',\n",
       " 'line_light_ok_6cm.tif',\n",
       " 'twice_p_darkest.tif',\n",
       " 'twice_p_darkest_shodow.tif',\n",
       " '偏振片經二次最暗.tif',\n",
       " '偏振片經二次最暗有遮光.tif',\n",
       " '條型光無偏振.tif',\n",
       " '條形光有偏振4cm.tif',\n",
       " '條形光有偏振6cm.tif']"
      ]
     },
     "execution_count": 53,
     "metadata": {},
     "output_type": "execute_result"
    }
   ],
   "source": [
    "import os\n",
    "origin_image_folder = pathlib.Path(r\"F:\\Code\\Digital-Image-Processing\\Code\\Resources\\Private_Data\")\n",
    "origin_images = os.listdir(origin_image_folder.as_posix())\n",
    "origin_images"
   ]
  },
  {
   "cell_type": "code",
   "execution_count": 54,
   "metadata": {},
   "outputs": [
    {
     "data": {
      "text/plain": [
       "'line_light_no_p'"
      ]
     },
     "execution_count": 54,
     "metadata": {},
     "output_type": "execute_result"
    }
   ],
   "source": [
    "image_number = param1\n",
    "origin_image_path = origin_image_folder / origin_images[image_number]\n",
    "origin_name = origin_image_path.stem\n",
    "origin_name"
   ]
  },
  {
   "cell_type": "code",
   "execution_count": 55,
   "metadata": {},
   "outputs": [],
   "source": [
    "export_pdf = True\n",
    "notebook_image_print = False\n",
    "fonts = [r\"F:\\Code\\Digital-Image-Processing\\Code\\Resources\\Fonts\\Times New Roman.ttf\", r\"F:\\Code\\Digital-Image-Processing\\Code\\Resources\\Fonts\\kaiu.ttf\"]\n",
    "pdf_content = [\n",
    "    {'type':'title', 'add': 'AOI Report', 'font':0}\n",
    "    ]"
   ]
  },
  {
   "cell_type": "code",
   "execution_count": 56,
   "metadata": {},
   "outputs": [
    {
     "data": {
      "text/plain": [
       "'F:\\\\Code\\\\Digital-Image-Processing\\\\Code\\\\Resources\\\\outputs\\\\pdf\\\\2024-08-27\\\\2024-08-27_line_light_no_p_aoireport.pdf'"
      ]
     },
     "execution_count": 56,
     "metadata": {},
     "output_type": "execute_result"
    }
   ],
   "source": [
    "import datetime\n",
    "now = datetime.datetime.now()\n",
    "pdfname = f\"{folder_path}\\\\{now.date()}_{origin_name}_aoireport.pdf\"\n",
    "pdfname"
   ]
  },
  {
   "cell_type": "code",
   "execution_count": 57,
   "metadata": {},
   "outputs": [
    {
     "name": "stdout",
     "output_type": "stream",
     "text": [
      "Image saved at F:\\Code\\Digital-Image-Processing\\Code\\Resources\\template\\origin.jpg\n"
     ]
    }
   ],
   "source": [
    "# 讀取圖片，使用灰階模式\n",
    "origin = cv2.imread(origin_image_path.as_posix(), cv2.IMREAD_GRAYSCALE)\n",
    "\n",
    "save_params = {\n",
    "            'folder_path': template_folder_path,\n",
    "            'name': 'origin.jpg',\n",
    "            'bbox_inches': 'tight'\n",
    "        }\n",
    "save_plt_image(origin, save_params, print_image=notebook_image_print)"
   ]
  },
  {
   "cell_type": "code",
   "execution_count": 58,
   "metadata": {},
   "outputs": [],
   "source": [
    "addcontent = [{'type':'content', 'add': '原圖', 'font':1},\n",
    "    {'type':'image', 'add': (template_folder_path / 'origin.jpg').as_posix(), 'font':0},]\n",
    "\n",
    "pdf_content.extend(addcontent)\n",
    "    "
   ]
  },
  {
   "cell_type": "markdown",
   "metadata": {},
   "source": [
    "## 門檻化"
   ]
  },
  {
   "cell_type": "code",
   "execution_count": 59,
   "metadata": {},
   "outputs": [],
   "source": [
    "image = origin # origin add_image hs sobel_vertical sobel_horizontal laplacian_abs"
   ]
  },
  {
   "cell_type": "code",
   "execution_count": 60,
   "metadata": {},
   "outputs": [],
   "source": [
    "def image_binary(image, standard=2, threshold_value=False, print_image=True, print_threshold=False):\n",
    "    mean = np.mean(image)\n",
    "    std_dev = np.std(image)\n",
    "    \n",
    "    if not threshold_value:\n",
    "        threshold_value = min(mean+std_dev*standard, 255-std_dev) if mean+std_dev*standard >0 else 0\n",
    "        threshold_value = int(threshold_value)\n",
    "    \n",
    "    # 根據門檻值進行二值化\n",
    "    _, binary_image = cv2.threshold(image, threshold_value, 255, cv2.THRESH_BINARY)\n",
    "    \n",
    "    if print_image:\n",
    "    # 顯示二值化後的圖片\n",
    "        plt.figure(figsize=(8, 6))\n",
    "        plt.imshow(binary_image, cmap='gray')\n",
    "        plt.title('Binary Image')\n",
    "        plt.axis('off')\n",
    "        plt.show()\n",
    "    \n",
    "    if print_threshold:\n",
    "        print(f\"mean+std_dev*standard: {mean+std_dev*standard}, final thershold = {threshold_value}\")\n",
    "    \n",
    "    return binary_image"
   ]
  },
  {
   "cell_type": "code",
   "execution_count": 61,
   "metadata": {},
   "outputs": [
    {
     "name": "stdout",
     "output_type": "stream",
     "text": [
      "Image saved at F:\\Code\\Digital-Image-Processing\\Code\\Resources\\template\\instant binary.jpg\n"
     ]
    }
   ],
   "source": [
    "binary_image = image_binary(image, standard=2, print_image=False, print_threshold=False)\n",
    "\n",
    "save_params = {\n",
    "    'folder_path': template_folder_path,\n",
    "    'name': 'instant binary.jpg',\n",
    "    'cmap': 'gray',\n",
    "    'bbox_inches': 'tight'\n",
    "}\n",
    "save_plt_image(binary_image, save_params, print_image=notebook_image_print)"
   ]
  },
  {
   "cell_type": "code",
   "execution_count": 62,
   "metadata": {},
   "outputs": [],
   "source": [
    "addcontent = [    {'type':'content', 'add': 'instant binary, 兩倍標準差', 'font':1},\n",
    "    {'type':'image', 'add': (template_folder_path / 'sobel_vertical.jpg').as_posix(), 'font':0},\n",
    "]\n",
    "\n",
    "pdf_content.extend(addcontent)"
   ]
  },
  {
   "cell_type": "code",
   "execution_count": 63,
   "metadata": {},
   "outputs": [],
   "source": [
    "ksize = 5\n",
    "\n",
    "# 應用垂直Sobel濾波\n",
    "sobel_vertical = cv2.Sobel(image, cv2.CV_64F, 1, 0, ksize=ksize)\n",
    "\n",
    "# 轉換結果以便於顯示\n",
    "sobel_vertical = np.abs(sobel_vertical)\n",
    "sobel_vertical = np.uint8(np.clip(sobel_vertical, 0, 255))\n",
    "\n",
    "# 應用水平Sobel濾波\n",
    "sobel_horizontal = cv2.Sobel(image, cv2.CV_64F, 0, 1, ksize=ksize)\n",
    "\n",
    "# 轉換結果以便於顯示\n",
    "sobel_horizontal = np.abs(sobel_horizontal)\n",
    "sobel_horizontal = np.uint8(np.clip(sobel_horizontal, 0, 255))\n",
    "\n",
    "# # 顯示原始影像和Sobel垂直結果\n",
    "# plt.figure(figsize=(18, 6))\n",
    "\n",
    "# plt.subplot(1, 3, 1)\n",
    "# plt.imshow(image, cmap='gray')\n",
    "# plt.title('Original Image')\n",
    "# plt.axis('off')\n",
    "\n",
    "# plt.subplot(1, 3, 2)\n",
    "# plt.imshow(sobel_vertical, cmap='gray')\n",
    "# plt.title('Vertical Sobel')\n",
    "# plt.axis('off')\n",
    "\n",
    "# plt.subplot(1, 3, 3)\n",
    "# plt.imshow(sobel_horizontal, cmap='gray')\n",
    "# plt.title('Horizontal Sobel')\n",
    "# plt.axis('off')\n",
    "\n",
    "# plt.show()\n"
   ]
  },
  {
   "cell_type": "code",
   "execution_count": 64,
   "metadata": {},
   "outputs": [],
   "source": [
    "# save_params = {\n",
    "#     'folder_path': template_folder_path,\n",
    "#     'name': 'sobel_horizontal.jpg',\n",
    "#     'cmap': 'gray',\n",
    "#     'bbox_inches': 'tight'\n",
    "# }\n",
    "# save_plt_image(sobel_horizontal, save_params, print_image=notebook_image_print)\n",
    "# save_params = {\n",
    "#     'folder_path': template_folder_path,\n",
    "#     'name': 'sobel_vertical.jpg',\n",
    "#     'cmap': 'gray',\n",
    "#     'bbox_inches': 'tight'\n",
    "# }\n",
    "# save_plt_image(sobel_vertical, save_params, print_image=notebook_image_print)"
   ]
  },
  {
   "cell_type": "code",
   "execution_count": 65,
   "metadata": {},
   "outputs": [
    {
     "name": "stdout",
     "output_type": "stream",
     "text": [
      "mean+std_dev*standard: 237.0668158173135, final thershold = 172\n",
      "mean+std_dev*standard: 256.4969256291706, final thershold = 166\n"
     ]
    }
   ],
   "source": [
    "standard = 2\n",
    "\n",
    "binary_image = image_binary(image, standard=standard, print_image=False)\n",
    "binary_sobel_vertical = image_binary(sobel_vertical, standard=standard, print_image=False, print_threshold=True)\n",
    "binary_sobel_horizontal = image_binary(sobel_horizontal, standard=standard, print_image=False, print_threshold=True)\n",
    "\n",
    "# # 顯示原始影像和Sobel垂直結果\n",
    "# plt.figure(figsize=(18, 6))\n",
    "\n",
    "# plt.subplot(1, 3, 1)\n",
    "# plt.imshow(binary_image, cmap='gray')\n",
    "# plt.title('Binary Original Image')\n",
    "# plt.axis('off')\n",
    "\n",
    "# plt.subplot(1, 3, 2)\n",
    "# plt.imshow(binary_sobel_vertical, cmap='gray')\n",
    "# plt.title('Binary Vertical Sobel')\n",
    "# plt.axis('off')\n",
    "\n",
    "# plt.subplot(1, 3, 3)\n",
    "# plt.imshow(binary_sobel_horizontal, cmap='gray')\n",
    "# plt.title('Binary Horizontal Sobel')\n",
    "# plt.axis('off')\n",
    "\n",
    "# plt.show()\n"
   ]
  },
  {
   "cell_type": "code",
   "execution_count": 66,
   "metadata": {},
   "outputs": [
    {
     "name": "stdout",
     "output_type": "stream",
     "text": [
      "Image saved at F:\\Code\\Digital-Image-Processing\\Code\\Resources\\template\\binary_sobel_vertical.jpg\n",
      "Image saved at F:\\Code\\Digital-Image-Processing\\Code\\Resources\\template\\binary_sobel_horizontal.jpg\n"
     ]
    }
   ],
   "source": [
    "save_params = {\n",
    "    'folder_path': template_folder_path,\n",
    "    'name': 'binary_sobel_vertical.jpg',\n",
    "    'cmap': 'gray',\n",
    "    'bbox_inches': 'tight'\n",
    "}\n",
    "save_plt_image(binary_sobel_vertical, save_params, print_image=notebook_image_print)\n",
    "save_params = {\n",
    "    'folder_path': template_folder_path,\n",
    "    'name': 'binary_sobel_horizontal.jpg',\n",
    "    'cmap': 'gray',\n",
    "    'bbox_inches': 'tight'\n",
    "}\n",
    "save_plt_image(binary_sobel_horizontal, save_params, print_image=notebook_image_print)"
   ]
  },
  {
   "cell_type": "code",
   "execution_count": 67,
   "metadata": {},
   "outputs": [],
   "source": [
    "addcontent = [       {'type':'content', 'add': '垂直Sobel後二值化', 'font':1},\n",
    "    {'type':'image', 'add': (template_folder_path / 'binary_sobel_vertical.jpg').as_posix(), 'font':0},\n",
    "    \n",
    "    {'type':'content', 'add': '水平Sobel後二值化', 'font':1},\n",
    "    {'type':'image', 'add': (template_folder_path / 'binary_sobel_horizontal.jpg').as_posix(), 'font':0},\n",
    "]\n",
    "\n",
    "pdf_content.extend(addcontent)\n",
    "\n",
    "    "
   ]
  },
  {
   "cell_type": "code",
   "execution_count": 68,
   "metadata": {},
   "outputs": [],
   "source": [
    "image = origin\n",
    "\n",
    "# 應用拉普拉斯算子\n",
    "laplacian = cv2.Laplacian(image, cv2.CV_64F, ksize=5)  # 設置kernel size\n",
    "\n",
    "# 將結果轉換為絕對值並縮放到8位\n",
    "laplacian_abs = cv2.convertScaleAbs(laplacian)\n",
    "\n",
    "# # 顯示原始影像和拉普拉斯結果\n",
    "# plt.figure(figsize=(12, 6))\n",
    "\n",
    "# plt.subplot(1, 2, 1)\n",
    "# plt.imshow(image, cmap='gray')\n",
    "# plt.title('Original Image')\n",
    "# plt.axis('off')\n",
    "\n",
    "# plt.subplot(1, 2, 2)\n",
    "# plt.imshow(laplacian_abs, cmap='gray')\n",
    "# plt.title('Laplacian')\n",
    "# plt.axis('off')\n",
    "\n",
    "# plt.show()"
   ]
  },
  {
   "cell_type": "code",
   "execution_count": 69,
   "metadata": {},
   "outputs": [],
   "source": [
    "binary_laplacian_abs = image_binary(laplacian_abs, print_image=False)"
   ]
  },
  {
   "cell_type": "code",
   "execution_count": 70,
   "metadata": {},
   "outputs": [
    {
     "name": "stdout",
     "output_type": "stream",
     "text": [
      "Image saved at F:\\Code\\Digital-Image-Processing\\Code\\Resources\\template\\binary_laplacian_abs.jpg\n"
     ]
    }
   ],
   "source": [
    "save_params = {\n",
    "    'folder_path': template_folder_path,\n",
    "    'name': 'binary_laplacian_abs.jpg',\n",
    "    'cmap': 'gray',\n",
    "    'bbox_inches': 'tight'\n",
    "}\n",
    "save_plt_image(binary_laplacian_abs, save_params, print_image=notebook_image_print)"
   ]
  },
  {
   "cell_type": "code",
   "execution_count": 71,
   "metadata": {},
   "outputs": [],
   "source": [
    "addcontent = [{'type':'content', 'add': '拉普拉斯後二值化', 'font':1},\n",
    "    {'type':'image', 'add': (template_folder_path / 'binary_laplacian_abs.jpg').as_posix(), 'font':0},\n",
    "]\n",
    "\n",
    "pdf_content.extend(addcontent)\n",
    "\n",
    "    "
   ]
  },
  {
   "cell_type": "code",
   "execution_count": 72,
   "metadata": {},
   "outputs": [
    {
     "name": "stdout",
     "output_type": "stream",
     "text": [
      "Image saved at F:\\Code\\Digital-Image-Processing\\Code\\Resources\\template\\binary_laplacian_abs.jpg\n"
     ]
    }
   ],
   "source": [
    "# save_params = {\n",
    "#     'folder_path': template_folder_path,\n",
    "#     'name': 'laplacian_abs.jpg',\n",
    "#     'cmap': 'gray',\n",
    "#     'bbox_inches': 'tight'\n",
    "# }\n",
    "# save_plt_image(laplacian_abs, save_params, print_image=notebook_image_print)\n",
    "save_params = {\n",
    "    'folder_path': template_folder_path,\n",
    "    'name': 'binary_laplacian_abs.jpg',\n",
    "    'cmap': 'gray',\n",
    "    'bbox_inches': 'tight'\n",
    "}\n",
    "save_plt_image(binary_laplacian_abs, save_params, print_image=notebook_image_print)"
   ]
  },
  {
   "cell_type": "code",
   "execution_count": 73,
   "metadata": {},
   "outputs": [],
   "source": [
    "def get_lines_hough(image, threshold=50, min_line_length=100, max_line_gap=5):\n",
    "    # 使用 HoughLinesP 函數來檢測影像中的直線\n",
    "    lines = cv2.HoughLinesP(image, rho=1, theta=np.pi/180, threshold=threshold,\n",
    "                            minLineLength=min_line_length, maxLineGap=max_line_gap)\n",
    "    \n",
    "    # 創建一個空白影像，用於繪製檢測到的直線\n",
    "    lines_image = np.zeros_like(image)\n",
    "    \n",
    "    if lines is not None:\n",
    "        for line in lines:\n",
    "            for x1, y1, x2, y2 in line:\n",
    "                cv2.line(lines_image, (x1, y1), (x2, y2), 255, 1)\n",
    "    \n",
    "    return lines_image\n",
    "\n",
    "lines_image = get_lines_hough(binary_laplacian_abs)\n",
    "# plt.figure(figsize=(7, 7))\n",
    "# plt.imshow(lines_image, cmap='gray')\n",
    "# plt.title('binary_laplacian_abs Extracted Lines')\n",
    "# plt.axis('off')"
   ]
  },
  {
   "cell_type": "code",
   "execution_count": 74,
   "metadata": {},
   "outputs": [
    {
     "name": "stdout",
     "output_type": "stream",
     "text": [
      "Image saved at F:\\Code\\Digital-Image-Processing\\Code\\Resources\\template\\lines_binary_laplacian_abs.jpg\n"
     ]
    }
   ],
   "source": [
    "save_params = {\n",
    "    'folder_path': template_folder_path,\n",
    "    'name': 'lines_binary_laplacian_abs.jpg',\n",
    "    'cmap': 'gray',\n",
    "    'bbox_inches': 'tight'\n",
    "}\n",
    "save_plt_image(lines_image, save_params, print_image=notebook_image_print)"
   ]
  },
  {
   "cell_type": "code",
   "execution_count": 75,
   "metadata": {},
   "outputs": [],
   "source": [
    "addcontent = [    \n",
    "    {'type':'content', 'add': '拉普拉斯二值化後霍夫法取線段', 'font':1},\n",
    "    {'type':'image', 'add': (template_folder_path / 'lines_binary_laplacian_abs.jpg').as_posix(), 'font':0},\n",
    " ]\n",
    "\n",
    "pdf_content.extend(addcontent)\n",
    "\n",
    "    "
   ]
  },
  {
   "cell_type": "code",
   "execution_count": 76,
   "metadata": {},
   "outputs": [
    {
     "name": "stdout",
     "output_type": "stream",
     "text": [
      "Image saved at F:\\Code\\Digital-Image-Processing\\Code\\Resources\\template\\lines_binary_sobel_horizontal.jpg\n"
     ]
    }
   ],
   "source": [
    "lines_image = get_lines_hough(binary_sobel_horizontal)\n",
    "save_params = {\n",
    "    'folder_path': template_folder_path,\n",
    "    'name': 'lines_binary_sobel_horizontal.jpg',\n",
    "    'cmap': 'gray',\n",
    "    'bbox_inches': 'tight'\n",
    "}\n",
    "save_plt_image(lines_image, save_params, print_image=notebook_image_print)\n",
    "# plt.imshow(lines_image, cmap='gray')"
   ]
  },
  {
   "cell_type": "code",
   "execution_count": 77,
   "metadata": {},
   "outputs": [],
   "source": [
    "addcontent = [    \n",
    "    {'type':'content', 'add': '垂直Sobel二值化後霍夫法取線段', 'font':1},\n",
    "    {'type':'image', 'add': (template_folder_path / 'lines_binary_sobel_vertical.jpg').as_posix(), 'font':0},\n",
    "]\n",
    "\n",
    "pdf_content.extend(addcontent)\n",
    "\n",
    "    "
   ]
  },
  {
   "cell_type": "code",
   "execution_count": 78,
   "metadata": {},
   "outputs": [
    {
     "name": "stdout",
     "output_type": "stream",
     "text": [
      "Image saved at F:\\Code\\Digital-Image-Processing\\Code\\Resources\\template\\lines_binary_sobel_vertical.jpg\n"
     ]
    }
   ],
   "source": [
    "lines_image = get_lines_hough(binary_sobel_vertical)\n",
    "save_params = {\n",
    "    'folder_path': template_folder_path,\n",
    "    'name': 'lines_binary_sobel_vertical.jpg',\n",
    "    'cmap': 'gray',\n",
    "    'bbox_inches': 'tight'\n",
    "}\n",
    "save_plt_image(lines_image, save_params, print_image=notebook_image_print)\n",
    "# plt.imshow(lines_image, cmap='gray')"
   ]
  },
  {
   "cell_type": "code",
   "execution_count": 79,
   "metadata": {},
   "outputs": [],
   "source": [
    "addcontent = [    \n",
    "    {'type':'content', 'add': '水平Sobel二值化後霍夫法取線段', 'font':1},\n",
    "    {'type':'image', 'add': (template_folder_path / 'lines_binary_sobel_horizontal.jpg').as_posix(), 'font':0},\n",
    "]\n",
    "\n",
    "pdf_content.extend(addcontent)   "
   ]
  },
  {
   "cell_type": "code",
   "execution_count": 80,
   "metadata": {},
   "outputs": [],
   "source": [
    "from PIL import Image as PILImage\n",
    "from reportlab.lib.pagesizes import A4\n",
    "from reportlab.lib.units import inch\n",
    "from reportlab.platypus import SimpleDocTemplate, Paragraph, Spacer, Image\n",
    "from reportlab.lib.styles import getSampleStyleSheet, ParagraphStyle\n",
    "from reportlab.pdfbase.ttfonts import TTFont\n",
    "from reportlab.pdfbase import pdfmetrics\n",
    "from reportlab.lib.enums import TA_LEFT, TA_CENTER, TA_RIGHT\n",
    "\n",
    "class PDFReport:\n",
    "    def __init__(self, name, fonts=None) -> None:\n",
    "        self.pdf_name = name\n",
    "        self.story = []\n",
    "        self.doc = SimpleDocTemplate(self.pdf_name, pagesize=A4)\n",
    "        self.styles = getSampleStyleSheet()  # 定義樣式表\n",
    "        \n",
    "        if fonts:\n",
    "            self.font_create(fonts)\n",
    "        else:\n",
    "            self.fonts = [self.styles['BodyText']]  # 使用默認字體\n",
    "\n",
    "    def image_pdf_wh(self, image_path):\n",
    "        with PILImage.open(image_path) as img:\n",
    "            img_width, img_height = img.size  # 圖片的寬度和高度（像素）\n",
    "\n",
    "        max_width_inch = 7\n",
    "        max_height_inch = 4\n",
    "        \n",
    "        aspect_ratio = img_width / img_height\n",
    "\n",
    "        if img_width > img_height:\n",
    "            display_width = min(max_width_inch, img_width / img_height * max_height_inch)\n",
    "            display_height = display_width / aspect_ratio\n",
    "        else:\n",
    "            display_height = min(max_height_inch, img_height / img_width * max_width_inch)\n",
    "            display_width = display_height * aspect_ratio\n",
    "\n",
    "        return display_width, display_height\n",
    "    \n",
    "    def add_image(self, image_path):\n",
    "        display_width, display_height = self.image_pdf_wh(image_path)\n",
    "        img = Image(image_path, display_width * inch, display_height * inch)\n",
    "        self.story.append(img)\n",
    "        self.story.append(Spacer(1, 12))\n",
    "    \n",
    "    def add_title(self, title, font=0, font_size=16, alignment=TA_CENTER):\n",
    "        if font_size:\n",
    "            self.fonts[font].fontSize = font_size\n",
    "        if alignment:\n",
    "            self.fonts[font].alignment = alignment\n",
    "        self.story.append(Paragraph(title, self.fonts[font]))\n",
    "        self.story.append(Spacer(1, 12))\n",
    "\n",
    "    def add_content(self, text_content, font=0, font_size=None, alignment=None):\n",
    "        if font_size:\n",
    "            self.fonts[font].fontSize = font_size\n",
    "        if alignment:\n",
    "            self.fonts[font].alignment = alignment\n",
    "        self.story.append(Paragraph(text_content, self.fonts[font]))\n",
    "        self.story.append(Spacer(1, 12))\n",
    "\n",
    "    \n",
    "    def font_create(self, fonts, font_sizes=None, alignments=None):\n",
    "        self.fonts = []\n",
    "        if font_sizes is None:\n",
    "            font_sizes = [12] * len(fonts)  # 默認字體大小為12\n",
    "        if alignments is None:\n",
    "            alignments = [TA_LEFT] * len(fonts)  # 默認為左對齊\n",
    "\n",
    "        for i in range(len(fonts)):\n",
    "            fontname = f'font{i}'\n",
    "            pdfmetrics.registerFont(TTFont(fontname, fonts[i]))\n",
    "            style = ParagraphStyle(\n",
    "                name=fontname,\n",
    "                fontName=fontname,\n",
    "                fontSize=font_sizes[i],  # 設置字體大小\n",
    "                alignment=alignments[i],  # 設置對齊方式\n",
    "                parent=self.styles[\"Normal\"],\n",
    "            )\n",
    "            self.fonts.append(style)\n",
    "\n",
    "            \n",
    "    def create(self):\n",
    "        self.doc.build(self.story)\n",
    "        print(f\"PDF報告已生成：{self.pdf_name}\")"
   ]
  },
  {
   "cell_type": "code",
   "execution_count": 81,
   "metadata": {},
   "outputs": [
    {
     "name": "stdout",
     "output_type": "stream",
     "text": [
      "PDF報告已生成：F:\\Code\\Digital-Image-Processing\\Code\\Resources\\outputs\\pdf\\2024-08-27\\2024-08-27_line_light_no_p_aoireport.pdf\n"
     ]
    }
   ],
   "source": [
    "report = PDFReport(name=pdfname, fonts=fonts)\n",
    "\n",
    "for content in pdf_content:\n",
    "    if content.get('type') == 'title':\n",
    "        report.add_title(content.get('add'), font=content.get('font'))\n",
    "    elif content.get('type') == 'content':\n",
    "        report.add_content(content.get('add'), font=content.get('font'))\n",
    "    elif content.get('type') == 'image':\n",
    "        report.add_image(content.get('add'))\n",
    "    \n",
    "report.create()"
   ]
  }
 ],
 "metadata": {
  "kernelspec": {
   "display_name": "JupyterLab",
   "language": "python",
   "name": "jupyterlab"
  },
  "language_info": {
   "codemirror_mode": {
    "name": "ipython",
    "version": 3
   },
   "file_extension": ".py",
   "mimetype": "text/x-python",
   "name": "python",
   "nbconvert_exporter": "python",
   "pygments_lexer": "ipython3",
   "version": "3.11.4"
  }
 },
 "nbformat": 4,
 "nbformat_minor": 2
}
