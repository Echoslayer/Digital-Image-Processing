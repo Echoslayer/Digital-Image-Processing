{
 "cells": [
  {
   "cell_type": "code",
   "execution_count": 8,
   "metadata": {},
   "outputs": [
    {
     "name": "stdout",
     "output_type": "stream",
     "text": [
      "Chapter 1 光、影像、品質與浮水印\n",
      "Chapter 2 型態學、DCT、人臉定位與 FFT\n",
      "Chapter 3 影像品質的改善與回復\n",
      "Chapter 4 測邊\n",
      "Chapter 5 門檻值決定與區域的分割\n",
      "Chapter 6 直線與道路偵測\n",
      "Chapter 7 圓與橢圓偵測\n",
      "Chapter 8 紋理描述與分類\n",
      "Chapter 9 圖形識別、匹配與三維影像重建\n",
      "Chapter 10 空間資料結構設計與應用\n",
      "Chapter 11 分群與應用\n",
      "Chapter 12 影像與視訊壓縮\n",
      "Chapter 13 影像資料庫檢索\n",
      "Chapter 14 彩色影像處理\n",
      "Chapter 15 三維影像的彩現\n",
      "Chapter 16 深度學習在電腦視覺的應用\n"
     ]
    }
   ],
   "source": [
    "import os\n",
    "\n",
    "def extract_chapter_number(chapter_name):\n",
    "    # 提取章節名稱中的數字部分\n",
    "    parts = chapter_name.split()\n",
    "    for part in parts:\n",
    "        if part.isdigit():\n",
    "            return int(part)\n",
    "    return float('inf')  # 若未找到數字，放到最後\n",
    "\n",
    "# 獲取目錄列表\n",
    "dirs = os.listdir(r'F:\\Code\\Digtal-Image-Processing\\Notes Repository - Digtal Image Processing\\影像處理與電腦視覺\\PDF')\n",
    "\n",
    "# 按章節數字部分進行排序\n",
    "dirs = sorted(dirs, key=extract_chapter_number)\n",
    "\n",
    "# 輸出章節名稱（去掉 .pdf 後綴）\n",
    "print('\\n'.join((dir[:-4] for dir in dirs)))\n"
   ]
  }
 ],
 "metadata": {
  "kernelspec": {
   "display_name": "JupyterLab",
   "language": "python",
   "name": "jupyterlab"
  },
  "language_info": {
   "codemirror_mode": {
    "name": "ipython",
    "version": 3
   },
   "file_extension": ".py",
   "mimetype": "text/x-python",
   "name": "python",
   "nbconvert_exporter": "python",
   "pygments_lexer": "ipython3",
   "version": "3.11.4"
  }
 },
 "nbformat": 4,
 "nbformat_minor": 2
}
