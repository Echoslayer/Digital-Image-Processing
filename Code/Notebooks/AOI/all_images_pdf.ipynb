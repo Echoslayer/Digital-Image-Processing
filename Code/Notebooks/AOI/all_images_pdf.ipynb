{
 "cells": [
  {
   "cell_type": "code",
   "execution_count": 1,
   "metadata": {
    "tags": [
     "parameters",
     "Parameters"
    ]
   },
   "outputs": [],
   "source": [
    "# Parameters\n",
    "param1 = 0"
   ]
  },
  {
   "cell_type": "code",
   "execution_count": 2,
   "metadata": {},
   "outputs": [
    {
     "name": "stdout",
     "output_type": "stream",
     "text": [
      "/Users/xieweizhe/Desktop/MacCode/Digital-Image-Processing/Code/Notebooks/test_notebooks\n",
      "/Users/xieweizhe/Desktop/MacCode/Digital-Image-Processing/Code/Notebooks\n"
     ]
    }
   ],
   "source": [
    "import os\n",
    "print(os.getcwd())\n",
    "os.chdir('../')\n",
    "print(os.getcwd())"
   ]
  },
  {
   "cell_type": "code",
   "execution_count": 3,
   "metadata": {},
   "outputs": [],
   "source": [
    "from mymodules import filters"
   ]
  },
  {
   "cell_type": "code",
   "execution_count": 4,
   "metadata": {},
   "outputs": [],
   "source": [
    "from mymodules.basic_filters import get_lines_hough, equalized_image, image_binary"
   ]
  },
  {
   "cell_type": "code",
   "execution_count": 5,
   "metadata": {},
   "outputs": [
    {
     "name": "stdout",
     "output_type": "stream",
     "text": [
      "Function name: bilateralFilter\n",
      "Function name: differenceOfGaussian\n",
      "Function name: frangiFilter\n",
      "Function name: gaborFilter\n",
      "Function name: gaussianBlur\n",
      "Function name: hessianFilter\n",
      "Function name: highPassFilter\n",
      "Function name: horizontal_sobel\n",
      "Function name: kmeansFilter\n",
      "Function name: laplacian\n",
      "Function name: laplacianOfGaussian\n",
      "Function name: meanFilter\n",
      "Function name: medianBlur\n",
      "Function name: morphologicalGradient\n",
      "Function name: nonLocalMeansFilter\n",
      "Function name: ridgeFilter\n",
      "Function name: sideWindowFilter\n",
      "Function name: vertical_sobel\n"
     ]
    }
   ],
   "source": [
    "import inspect\n",
    "\n",
    "# 獲取 filters 模組中的所有自定義函數（非內建）並將它們放入一個列表中\n",
    "function_list = [obj for name, obj in inspect.getmembers(filters) if inspect.isfunction(obj) and obj.__module__ == filters.__name__]\n",
    "\n",
    "# 你現在可以取用這些函數，例如調用它們\n",
    "for func in function_list:\n",
    "    print(f\"Function name: {func.__name__}\")\n",
    "    # 如果需要調用函數，可以直接使用 func()"
   ]
  },
  {
   "cell_type": "code",
   "execution_count": 6,
   "metadata": {},
   "outputs": [
    {
     "data": {
      "text/plain": [
       "'bilateralFilter'"
      ]
     },
     "execution_count": 6,
     "metadata": {},
     "output_type": "execute_result"
    }
   ],
   "source": [
    "select_function = function_list[param1]\n",
    "select_function.__name__"
   ]
  },
  {
   "cell_type": "code",
   "execution_count": 7,
   "metadata": {},
   "outputs": [],
   "source": [
    "import cv2  # 用於讀取圖片\n",
    "import numpy as np  # 用於數學運算\n",
    "import matplotlib.pyplot as plt  # 用於圖形顯示\n",
    "import pathlib"
   ]
  },
  {
   "cell_type": "code",
   "execution_count": 8,
   "metadata": {},
   "outputs": [
    {
     "data": {
      "text/plain": [
       "'2024-10-03'"
      ]
     },
     "execution_count": 8,
     "metadata": {},
     "output_type": "execute_result"
    }
   ],
   "source": [
    "import datetime\n",
    "now = datetime.datetime.now()\n",
    "f\"{now.date()}\""
   ]
  },
  {
   "cell_type": "code",
   "execution_count": 9,
   "metadata": {},
   "outputs": [
    {
     "data": {
      "text/plain": [
       "'/Users/xieweizhe/Desktop/MacCode/Digital-Image-Processing/Code/Resources/outputs/pdf/2024-10-03'"
      ]
     },
     "execution_count": 9,
     "metadata": {},
     "output_type": "execute_result"
    }
   ],
   "source": [
    "folder_path = pathlib.Path(r\"/Users/xieweizhe/Desktop/MacCode/Digital-Image-Processing/Code/Resources/outputs/pdf\")\n",
    "folder_path = folder_path / f\"{now.date()}\"\n",
    "folder_path.mkdir(parents=True, exist_ok=True) # 確保目錄存在，不存在則創建\n",
    "folder_path.as_posix()"
   ]
  },
  {
   "cell_type": "code",
   "execution_count": 10,
   "metadata": {},
   "outputs": [],
   "source": [
    "template_folder_path = folder_path / 'template'\n",
    "template_folder_path.mkdir(parents=True, exist_ok=True)"
   ]
  },
  {
   "cell_type": "code",
   "execution_count": 11,
   "metadata": {},
   "outputs": [
    {
     "data": {
      "text/plain": [
       "['1_1.tif',\n",
       " '1_2.tif',\n",
       " '2_1.tif',\n",
       " '2_2.tif',\n",
       " '3_1.tif',\n",
       " '3_2.tif',\n",
       " '4_1.tif',\n",
       " '4_2.tif',\n",
       " '5_1.tif',\n",
       " '5_2.tif',\n",
       " '6_1.tif',\n",
       " '6_2.tif']"
      ]
     },
     "execution_count": 11,
     "metadata": {},
     "output_type": "execute_result"
    }
   ],
   "source": [
    "import os\n",
    "origin_image_folder = pathlib.Path(r\"/Users/xieweizhe/Desktop/MacCode/Digital-Image-Processing/Code/Resources/Data/Exp_20240925_AUO\")\n",
    "origin_images = os.listdir(origin_image_folder.as_posix())\n",
    "origin_images = [image for image in sorted(origin_images) if image[-4:]==\".tif\"]\n",
    "origin_images"
   ]
  },
  {
   "cell_type": "code",
   "execution_count": 12,
   "metadata": {},
   "outputs": [
    {
     "data": {
      "text/plain": [
       "'1_1.tif'"
      ]
     },
     "execution_count": 12,
     "metadata": {},
     "output_type": "execute_result"
    }
   ],
   "source": [
    "origin_image_path = origin_image_folder / origin_images[0]\n",
    "origin_name = origin_image_path.name\n",
    "origin_name"
   ]
  },
  {
   "cell_type": "code",
   "execution_count": 13,
   "metadata": {},
   "outputs": [],
   "source": [
    "export_pdf = True\n",
    "notebook_image_print = False\n",
    "# fonts = [r\"F:\\Code\\Digital-Image-Processing\\Code\\Resources\\Fonts\\Times New Roman.ttf\", r\"F:\\Code\\Digital-Image-Processing\\Code\\Resources\\Fonts\\kaiu.ttf\"]\n",
    "fonts = [r\"/Users/xieweizhe/Desktop/MacCode/Digital-Image-Processing/Code/Resources/Fonts/Times New Roman.ttf\", r\"/Users/xieweizhe/Desktop/MacCode/Digital-Image-Processing/Code/Resources/Fonts/kaiu.ttf\"]\n",
    "pdf_content = [\n",
    "    {'type':'title', 'add': 'AOI Report', 'font':0}\n",
    "    ]"
   ]
  },
  {
   "cell_type": "code",
   "execution_count": 14,
   "metadata": {},
   "outputs": [
    {
     "data": {
      "text/plain": [
       "'/Users/xieweizhe/Desktop/MacCode/Digital-Image-Processing/Code/Resources/outputs/pdf/2024-10-03/2024-10-03_bilateralFilter_aoireport.pdf'"
      ]
     },
     "execution_count": 14,
     "metadata": {},
     "output_type": "execute_result"
    }
   ],
   "source": [
    "import datetime\n",
    "now = datetime.datetime.now()\n",
    "pdfname = folder_path / f\"{now.date()}_{select_function.__name__}_aoireport.pdf\"\n",
    "pdfname = pdfname.as_posix()\n",
    "pdfname"
   ]
  },
  {
   "cell_type": "code",
   "execution_count": 15,
   "metadata": {},
   "outputs": [
    {
     "data": {
      "text/plain": [
       "'1_1.tif'"
      ]
     },
     "execution_count": 15,
     "metadata": {},
     "output_type": "execute_result"
    }
   ],
   "source": [
    "origin_image_path = origin_image_folder / origin_images[0]\n",
    "origin_name = origin_image_path.name\n",
    "origin_name"
   ]
  },
  {
   "cell_type": "code",
   "execution_count": 16,
   "metadata": {},
   "outputs": [],
   "source": [
    "from mymodules.image_manager import ImageManager\n",
    "origin_im = ImageManager(origin_image_path.as_posix())"
   ]
  },
  {
   "cell_type": "code",
   "execution_count": 17,
   "metadata": {},
   "outputs": [
    {
     "data": {
      "text/plain": [
       "'.tif'"
      ]
     },
     "execution_count": 17,
     "metadata": {},
     "output_type": "execute_result"
    }
   ],
   "source": [
    "suffix = origin_im.path.suffix\n",
    "suffix"
   ]
  },
  {
   "cell_type": "code",
   "execution_count": null,
   "metadata": {},
   "outputs": [],
   "source": [
    "# for i in range(len(origin_images)-1):    \n",
    "#     # 讀取圖片\n",
    "#     origin_image_path = origin_image_folder / origin_images[i]\n",
    "#     origin_name = origin_image_path.name\n",
    "#     origin_name\n",
    "\n",
    "#     origin_im = ImageManager(origin_image_path.as_posix())\n",
    "#     origin_im.choose_rgb('b')\n",
    "\n",
    "#     origin_im.crop(1100, 1350, 200, 750)\n",
    "#     origin_im.save(output_folder=template_folder_path)\n",
    "#     image_name = origin_im.path.stem\n",
    "#     image_path = (template_folder_path / (image_name + suffix)).as_posix()\n",
    "\n",
    "#     addcontent = [\n",
    "#         {'type':'content', 'add': \"原圖: \"+image_name, 'font':1},\n",
    "#         {'type':'image', 'add': image_path, 'font':0},]\n",
    "#     pdf_content.extend(addcontent)\n",
    "    \n",
    "#     # equalized_image\n",
    "#     process_im = origin_im.process(equalized_image)\n",
    "#     image_name = image_name+\"_\"+process_im.path.stem\n",
    "#     process_im.save(name=image_name,output_folder=template_folder_path)\n",
    "\n",
    "#     image_path = (template_folder_path / (image_name + suffix)).as_posix()\n",
    "\n",
    "#     addcontent = [\n",
    "#         {'type':'content', 'add': image_name, 'font':1},\n",
    "#         {'type':'image', 'add': image_path, 'font':0},]\n",
    "#     pdf_content.extend(addcontent)"
   ]
  },
  {
   "cell_type": "code",
   "execution_count": 19,
   "metadata": {},
   "outputs": [],
   "source": [
    "pdf_content2 = []\n",
    "for i in range(len(origin_images)-1):    \n",
    "    # 讀取圖片\n",
    "    origin_image_path = origin_image_folder / origin_images[i]\n",
    "    origin_name = origin_image_path.name\n",
    "    origin_name\n",
    "\n",
    "    origin_im = ImageManager(origin_image_path.as_posix())\n",
    "    origin_im.choose_rgb('b')\n",
    "\n",
    "    origin_im.crop(1100, 1350, 200, 750)\n",
    "    origin_im.save(output_folder=template_folder_path)\n",
    "    \n",
    "    # 應用濾波器\n",
    "    process_im = origin_im.process(select_function)\n",
    "    process_im.save(output_folder=template_folder_path)\n",
    "\n",
    "    image_name = process_im.path.stem + origin_im.path.stem + \"_\"\n",
    "    image_path = (template_folder_path / (image_name + suffix)).as_posix()\n",
    "\n",
    "    # addcontent = [\n",
    "    #     {'type':'content', 'add': image_name, 'font':1},\n",
    "    #     {'type':'image', 'add': image_path, 'font':0},]\n",
    "    # pdf_content.extend(addcontent)\n",
    "\n",
    "    # 接下來進行二值化處理\n",
    "    b_process_im = process_im.process(image_binary)\n",
    "    image_name = \"binary_\"+image_name\n",
    "    b_process_im.save(name=image_name,output_folder=template_folder_path)\n",
    "    \n",
    "    image_path = (template_folder_path / (image_name + suffix)).as_posix()\n",
    "    addcontent = [\n",
    "        {'type':'content', 'add': image_name, 'font':1},\n",
    "        {'type':'image', 'add': image_path, 'font':0},]\n",
    "    pdf_content.extend(addcontent)\n",
    "\n",
    "    # 接著進行霍夫線檢測\n",
    "    lines_im = b_process_im.process(get_lines_hough, params={'threshold': 30, 'min_line_length': 50, 'max_line_gap': 25})\n",
    "    \n",
    "    image_name = \"lines_\"+image_name\n",
    "    \n",
    "    lines_im.save(name=image_name, output_folder=template_folder_path)\n",
    "\n",
    "    image_path = (template_folder_path / (image_name + suffix)).as_posix()\n",
    "    addcontent = [\n",
    "        {'type':'content', 'add': image_name, 'font':1},\n",
    "        {'type':'image', 'add': image_path, 'font':0},]\n",
    "    pdf_content2.extend(addcontent)\n",
    "\n",
    "pdf_content.extend(pdf_content2)"
   ]
  },
  {
   "cell_type": "code",
   "execution_count": 20,
   "metadata": {},
   "outputs": [
    {
     "name": "stdout",
     "output_type": "stream",
     "text": [
      "PDF報告已生成：/Users/xieweizhe/Desktop/MacCode/Digital-Image-Processing/Code/Resources/outputs/pdf/2024-10-03/2024-10-03_bilateralFilter_aoireport.pdf\n"
     ]
    }
   ],
   "source": [
    "from mymodules.pdf_report import PDFReport\n",
    "report = PDFReport(name=pdfname, fonts=fonts)\n",
    "\n",
    "for content in pdf_content:\n",
    "    if content.get('type') == 'title':\n",
    "        report.add_title(content.get('add'), font=content.get('font'))\n",
    "    elif content.get('type') == 'content':\n",
    "        report.add_content(content.get('add'), font=content.get('font'))\n",
    "    elif content.get('type') == 'image':\n",
    "        report.add_image(content.get('add'))\n",
    "    \n",
    "report.create()"
   ]
  },
  {
   "cell_type": "code",
   "execution_count": 21,
   "metadata": {},
   "outputs": [],
   "source": [
    "!rm -r '/Users/xieweizhe/Desktop/MacCode/Digital-Image-Processing/Code/Resources/outputs/pdf/2024-10-03/template'"
   ]
  }
 ],
 "metadata": {
  "kernelspec": {
   "display_name": ".venv",
   "language": "python",
   "name": "python3"
  },
  "language_info": {
   "codemirror_mode": {
    "name": "ipython",
    "version": 3
   },
   "file_extension": ".py",
   "mimetype": "text/x-python",
   "name": "python",
   "nbconvert_exporter": "python",
   "pygments_lexer": "ipython3",
   "version": "3.9.9"
  }
 },
 "nbformat": 4,
 "nbformat_minor": 2
}
