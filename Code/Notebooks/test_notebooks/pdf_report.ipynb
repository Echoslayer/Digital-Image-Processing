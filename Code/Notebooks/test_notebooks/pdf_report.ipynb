{
 "cells": [
  {
   "cell_type": "code",
   "execution_count": 5,
   "metadata": {},
   "outputs": [
    {
     "name": "stdout",
     "output_type": "stream",
     "text": [
      "PDF報告已生成：outputs/report.pdf\n"
     ]
    }
   ],
   "source": [
    "from PIL import Image as PILImage\n",
    "from reportlab.lib.pagesizes import A4\n",
    "from reportlab.lib.units import inch\n",
    "from reportlab.platypus import SimpleDocTemplate, Paragraph, Spacer, Image\n",
    "from reportlab.lib.styles import getSampleStyleSheet, ParagraphStyle\n",
    "from reportlab.pdfbase.ttfonts import TTFont\n",
    "from reportlab.pdfbase import pdfmetrics\n",
    "from reportlab.lib.enums import TA_LEFT, TA_CENTER, TA_RIGHT\n",
    "\n",
    "class PDFReport:\n",
    "    def __init__(self, name, fonts=None) -> None:\n",
    "        self.pdf_name = name\n",
    "        self.story = []\n",
    "        self.doc = SimpleDocTemplate(self.pdf_name, pagesize=A4)\n",
    "        self.styles = getSampleStyleSheet()  # 定義樣式表\n",
    "        \n",
    "        if fonts:\n",
    "            self.font_create(fonts)\n",
    "        else:\n",
    "            self.fonts = [self.styles['BodyText']]  # 使用默認字體\n",
    "\n",
    "    def image_pdf_wh(self, image_path):\n",
    "        with PILImage.open(image_path) as img:\n",
    "            img_width, img_height = img.size  # 圖片的寬度和高度（像素）\n",
    "\n",
    "        max_width_inch = 7\n",
    "        max_height_inch = 4\n",
    "        \n",
    "        aspect_ratio = img_width / img_height\n",
    "\n",
    "        if img_width > img_height:\n",
    "            display_width = min(max_width_inch, img_width / img_height * max_height_inch)\n",
    "            display_height = display_width / aspect_ratio\n",
    "        else:\n",
    "            display_height = min(max_height_inch, img_height / img_width * max_width_inch)\n",
    "            display_width = display_height * aspect_ratio\n",
    "\n",
    "        return display_width, display_height\n",
    "    \n",
    "    def add_image(self, image_path):\n",
    "        display_width, display_height = self.image_pdf_wh(image_path)\n",
    "        img = Image(image_path, display_width * inch, display_height * inch)\n",
    "        self.story.append(img)\n",
    "        self.story.append(Spacer(1, 12))\n",
    "    \n",
    "    def add_title(self, title, font=0, font_size=16, alignment=TA_CENTER):\n",
    "        if font_size:\n",
    "            self.fonts[font].fontSize = font_size\n",
    "        if alignment:\n",
    "            self.fonts[font].alignment = alignment\n",
    "        self.story.append(Paragraph(title, self.fonts[font]))\n",
    "        self.story.append(Spacer(1, 12))\n",
    "\n",
    "    def add_content(self, text_content, font=0, font_size=None, alignment=None):\n",
    "        if font_size:\n",
    "            self.fonts[font].fontSize = font_size\n",
    "        if alignment:\n",
    "            self.fonts[font].alignment = alignment\n",
    "        self.story.append(Paragraph(text_content, self.fonts[font]))\n",
    "        self.story.append(Spacer(1, 12))\n",
    "\n",
    "    \n",
    "    def font_create(self, fonts, font_sizes=None, alignments=None):\n",
    "        self.fonts = []\n",
    "        if font_sizes is None:\n",
    "            font_sizes = [12] * len(fonts)  # 默認字體大小為12\n",
    "        if alignments is None:\n",
    "            alignments = [TA_LEFT] * len(fonts)  # 默認為左對齊\n",
    "\n",
    "        for i in range(len(fonts)):\n",
    "            fontname = f'font{i}'\n",
    "            pdfmetrics.registerFont(TTFont(fontname, fonts[i]))\n",
    "            style = ParagraphStyle(\n",
    "                name=fontname,\n",
    "                fontName=fontname,\n",
    "                fontSize=font_sizes[i],  # 設置字體大小\n",
    "                alignment=alignments[i],  # 設置對齊方式\n",
    "                parent=self.styles[\"Normal\"],\n",
    "            )\n",
    "            self.fonts.append(style)\n",
    "\n",
    "    def create(self):\n",
    "        self.doc.build(self.story)\n",
    "        print(f\"PDF報告已生成：{self.pdf_name}\")\n",
    "        \n",
    "if __name__ == \"__main__\":\n",
    "    export_pdf = True\n",
    "    # fonts = [r\"F:\\Code\\Digital-Image-Processing\\Code\\Resources\\Fonts\\Times New Roman.ttf\", r\"F:\\Code\\Digital-Image-Processing\\Code\\Resources\\Fonts\\kaiu.ttf\"]\n",
    "    fonts = [r\"/Users/xieweizhe/Desktop/MacCode/Digital-Image-Processing/Code/Resources/Fonts/Times New Roman.ttf\", r\"/Users/xieweizhe/Desktop/MacCode/Digital-Image-Processing/Code/Resources/Fonts/kaiu.ttf\"]\n",
    "    pdf_content = [\n",
    "        {'type':'title', 'add': 'Test Report', 'font':0}\n",
    "        ]\n",
    "    import os\n",
    "    os.makedirs('outputs', exist_ok=True)\n",
    "    pdfname = f\"outputs/report.pdf\"\n",
    "    addcontent = [\n",
    "        {'type':'content', 'add': \"中文文字\", 'font':1},\n",
    "        {'type':'image', 'add': \"/Users/xieweizhe/Desktop/MacCode/Digital-Image-Processing/Code/Resources/Data/cat.jpg\", 'font':0},]\n",
    "    pdf_content.extend(addcontent)\n",
    "    \n",
    "    report = PDFReport(name=pdfname, fonts=fonts)\n",
    "\n",
    "    for content in pdf_content:\n",
    "        if content.get('type') == 'title':\n",
    "            report.add_title(content.get('add'), font=content.get('font'))\n",
    "        elif content.get('type') == 'content':\n",
    "            report.add_content(content.get('add'), font=content.get('font'))\n",
    "        elif content.get('type') == 'image':\n",
    "            report.add_image(content.get('add'))\n",
    "        \n",
    "    report.create()"
   ]
  },
  {
   "cell_type": "code",
   "execution_count": 7,
   "metadata": {},
   "outputs": [
    {
     "name": "stdout",
     "output_type": "stream",
     "text": [
      "rm: outputs: No such file or directory\n"
     ]
    }
   ],
   "source": [
    "!rm -r 'outputs'"
   ]
  }
 ],
 "metadata": {
  "kernelspec": {
   "display_name": ".venv",
   "language": "python",
   "name": "python3"
  },
  "language_info": {
   "codemirror_mode": {
    "name": "ipython",
    "version": 3
   },
   "file_extension": ".py",
   "mimetype": "text/x-python",
   "name": "python",
   "nbconvert_exporter": "python",
   "pygments_lexer": "ipython3",
   "version": "3.9.9"
  }
 },
 "nbformat": 4,
 "nbformat_minor": 2
}
