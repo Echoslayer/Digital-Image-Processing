{
 "cells": [
  {
   "cell_type": "code",
   "execution_count": 1,
   "metadata": {},
   "outputs": [
    {
     "name": "stdout",
     "output_type": "stream",
     "text": [
      "[[0.         0.08333333 0.16666667 ... 0.         0.         0.        ]\n",
      " [0.08333333 0.16666667 0.08333333 ... 0.         0.         0.        ]\n",
      " [0.16666667 0.08333333 0.16666667 ... 0.         0.         0.        ]\n",
      " ...\n",
      " [0.         0.         0.         ... 0.         0.         0.        ]\n",
      " [0.         0.         0.         ... 0.         0.         0.        ]\n",
      " [0.         0.         0.         ... 0.         0.         0.        ]]\n",
      "Contrast: [[1.66666667 3.25       1.16666667 0.75      ]]\n",
      "Dissimilarity: [[1.         1.75       0.83333333 0.75      ]]\n",
      "Homogeneity: [[0.56666667 0.275      0.61666667 0.625     ]]\n",
      "Energy: [[0.372678   0.55901699 0.372678   0.46770717]]\n",
      "Correlation: [[-0.30434783 -0.89090909  0.21495327  0.22580645]]\n",
      "ASM: [[0.13888889 0.3125     0.13888889 0.21875   ]]\n"
     ]
    }
   ],
   "source": [
    "import numpy as np\n",
    "from skimage.feature import graycomatrix, graycoprops\n",
    "\n",
    "# Sample image (3x3)\n",
    "image = np.array([[0, 1, 1],\n",
    "                  [0, 2, 2],\n",
    "                  [1, 2, 0]], dtype=np.uint8)\n",
    "\n",
    "# Define distances and angles\n",
    "distances = [1]  # Distance of 1 pixel\n",
    "angles = [0, np.pi/4, np.pi/2, 3*np.pi/4]  # 0, 45, 90, 135 degrees\n",
    "\n",
    "# Calculate GLCM\n",
    "glcm = graycomatrix(image, distances=distances, angles=angles, symmetric=True, normed=True)\n",
    "\n",
    "# Display GLCM for the first distance and angle\n",
    "print(glcm[:, :, 0, 0])  # GLCM for distance 1 and 0 degrees\n",
    "\n",
    "# Calculate properties of the GLCM\n",
    "contrast = graycoprops(glcm, 'contrast')\n",
    "dissimilarity = graycoprops(glcm, 'dissimilarity')\n",
    "homogeneity = graycoprops(glcm, 'homogeneity')\n",
    "energy = graycoprops(glcm, 'energy')\n",
    "correlation = graycoprops(glcm, 'correlation')\n",
    "ASM = graycoprops(glcm, 'ASM')\n",
    "\n",
    "print(f\"Contrast: {contrast}\")\n",
    "print(f\"Dissimilarity: {dissimilarity}\")\n",
    "print(f\"Homogeneity: {homogeneity}\")\n",
    "print(f\"Energy: {energy}\")\n",
    "print(f\"Correlation: {correlation}\")\n",
    "print(f\"ASM: {ASM}\")\n"
   ]
  },
  {
   "cell_type": "code",
   "execution_count": 2,
   "metadata": {},
   "outputs": [
    {
     "name": "stderr",
     "output_type": "stream",
     "text": [
      "f:\\Code\\LabENV\\Lib\\site-packages\\sklearn\\ensemble\\_weight_boosting.py:519: FutureWarning: The SAMME.R algorithm (the default) is deprecated and will be removed in 1.6. Use the SAMME algorithm to circumvent this warning.\n",
      "  warnings.warn(\n"
     ]
    },
    {
     "name": "stdout",
     "output_type": "stream",
     "text": [
      "Accuracy: 0.34074074074074073\n"
     ]
    }
   ],
   "source": [
    "from sklearn.ensemble import AdaBoostClassifier\n",
    "from sklearn.datasets import load_digits\n",
    "from sklearn.model_selection import train_test_split\n",
    "from sklearn.metrics import accuracy_score\n",
    "\n",
    "# 加載數據集\n",
    "digits = load_digits()\n",
    "X = digits.data\n",
    "y = digits.target\n",
    "\n",
    "# 分割數據集\n",
    "X_train, X_test, y_train, y_test = train_test_split(X, y, test_size=0.3, random_state=42)\n",
    "\n",
    "# 初始化Adaboost分類器\n",
    "adaboost = AdaBoostClassifier(n_estimators=50, random_state=42)\n",
    "\n",
    "# 訓練分類器\n",
    "adaboost.fit(X_train, y_train)\n",
    "\n",
    "# 預測\n",
    "y_pred = adaboost.predict(X_test)\n",
    "\n",
    "# 計算準確率\n",
    "accuracy = accuracy_score(y_test, y_pred)\n",
    "print(f\"Accuracy: {accuracy}\")\n"
   ]
  }
 ],
 "metadata": {
  "kernelspec": {
   "display_name": "JupyterLab",
   "language": "python",
   "name": "jupyterlab"
  },
  "language_info": {
   "codemirror_mode": {
    "name": "ipython",
    "version": 3
   },
   "file_extension": ".py",
   "mimetype": "text/x-python",
   "name": "python",
   "nbconvert_exporter": "python",
   "pygments_lexer": "ipython3",
   "version": "3.11.4"
  }
 },
 "nbformat": 4,
 "nbformat_minor": 2
}
