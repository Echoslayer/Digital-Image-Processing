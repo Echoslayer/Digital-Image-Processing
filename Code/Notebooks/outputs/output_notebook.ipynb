{
 "cells": [
  {
   "cell_type": "code",
   "execution_count": 1,
   "id": "48d75963",
   "metadata": {
    "execution": {
     "iopub.execute_input": "2024-08-23T10:43:50.750377Z",
     "iopub.status.busy": "2024-08-23T10:43:50.750377Z",
     "iopub.status.idle": "2024-08-23T10:43:50.762538Z",
     "shell.execute_reply": "2024-08-23T10:43:50.762538Z"
    },
    "papermill": {
     "duration": 0.012161,
     "end_time": "2024-08-23T10:43:50.762538",
     "exception": false,
     "start_time": "2024-08-23T10:43:50.750377",
     "status": "completed"
    },
    "tags": [
     "Parameters",
     "parameters"
    ]
   },
   "outputs": [],
   "source": [
    "# Parameters\n",
    "param1 = 0"
   ]
  },
  {
   "cell_type": "code",
   "execution_count": 2,
   "id": "a098381c",
   "metadata": {
    "execution": {
     "iopub.execute_input": "2024-08-23T10:43:50.762538Z",
     "iopub.status.busy": "2024-08-23T10:43:50.762538Z",
     "iopub.status.idle": "2024-08-23T10:43:50.779307Z",
     "shell.execute_reply": "2024-08-23T10:43:50.778571Z"
    },
    "papermill": {
     "duration": 0.017341,
     "end_time": "2024-08-23T10:43:50.779879",
     "exception": false,
     "start_time": "2024-08-23T10:43:50.762538",
     "status": "completed"
    },
    "tags": [
     "injected-parameters"
    ]
   },
   "outputs": [],
   "source": [
    "# Parameters\n",
    "param1 = 4\n"
   ]
  },
  {
   "cell_type": "code",
   "execution_count": 3,
   "id": "0862c2a2",
   "metadata": {
    "execution": {
     "iopub.execute_input": "2024-08-23T10:43:50.789392Z",
     "iopub.status.busy": "2024-08-23T10:43:50.789392Z",
     "iopub.status.idle": "2024-08-23T10:43:51.337559Z",
     "shell.execute_reply": "2024-08-23T10:43:51.337559Z"
    },
    "papermill": {
     "duration": 0.551187,
     "end_time": "2024-08-23T10:43:51.337559",
     "exception": false,
     "start_time": "2024-08-23T10:43:50.786372",
     "status": "completed"
    },
    "tags": []
   },
   "outputs": [],
   "source": [
    "import cv2  # 用於讀取圖片\n",
    "import numpy as np  # 用於數學運算\n",
    "import matplotlib.pyplot as plt  # 用於圖形顯示\n",
    "from numpy.fft import fft2, ifft2, fftshift, ifftshift  # 用於頻率域轉換\n",
    "import pathlib\n",
    "import os"
   ]
  },
  {
   "cell_type": "code",
   "execution_count": 4,
   "id": "9a14f638",
   "metadata": {
    "execution": {
     "iopub.execute_input": "2024-08-23T10:43:51.351277Z",
     "iopub.status.busy": "2024-08-23T10:43:51.350304Z",
     "iopub.status.idle": "2024-08-23T10:43:51.357406Z",
     "shell.execute_reply": "2024-08-23T10:43:51.357406Z"
    },
    "papermill": {
     "duration": 0.019847,
     "end_time": "2024-08-23T10:43:51.357406",
     "exception": false,
     "start_time": "2024-08-23T10:43:51.337559",
     "status": "completed"
    },
    "tags": []
   },
   "outputs": [],
   "source": [
    "def save_plt_image(image, save_params, print_image=False):\n",
    "    \"\"\"\n",
    "    使用Matplotlib保存圖像的函數。\n",
    "\n",
    "    該函數接收一個圖像（通常是NumPy數組）並根據給定的保存參數將其保存為文件。\n",
    "\n",
    "    Args:00\n",
    "        image (ndarray): 要保存的圖像數據。\n",
    "        save_params (dict): 保存參數的字典，包含以下鍵值對：\n",
    "            'folder_path' (str): 要保存圖像的文件夾路徑（默認為當前目錄）。\n",
    "            'name' (str): 保存的圖像文件名（默認為'image.jpg'）。\n",
    "            'cmap' (str): 顏色映射，用於顯示圖像（默認為'gray'灰度圖像）。\n",
    "            'figsize' (tuple): 圖像保存時的尺寸（以英寸為單位，默認為(10, 10)）。\n",
    "            'bbox_inches' (str or None): 保存時的邊界框設置（默認為None，不設置邊界，通常使用'tight'來去除多餘邊框）。\n",
    "\n",
    "    Example:\n",
    "        save_params = {\n",
    "            'folder_path': r\"F:\\Code\\Digital-Image-Processing\\Code\\Resources\\outputs\",\n",
    "            'name': 'image3.jpg',\n",
    "            'cmap': 'gray',\n",
    "            'figsize': (20, 20), \n",
    "            'bbox_inches': 'tight'\n",
    "        }\n",
    "        save_plt_image(image, save_params)\n",
    "    \"\"\"\n",
    "    \n",
    "    # 確保所有必要的保存參數都存在\n",
    "    \n",
    "    folder = pathlib.Path(save_params.get('folder_path', '.'))\n",
    "    \n",
    "    folder.mkdir(parents=True, exist_ok=True)  # 確保目錄存在\n",
    "    \n",
    "    name = save_params.get('name', 'image.jpg')\n",
    "\n",
    "\n",
    "    path = folder / name\n",
    "    cmap = save_params.get('cmap', 'gray')\n",
    "    figsize = save_params.get('figsize', (10, 10))\n",
    "    bbox_inches = save_params.get('bbox_inches', None)\n",
    "    \n",
    "    # 設置圖像的尺寸\n",
    "    plt.figure(figsize=figsize)\n",
    "    plt.imshow(image, cmap=cmap)\n",
    "    plt.axis('off')  # 隱藏坐標軸\n",
    "    \n",
    "    # 保存圖像\n",
    "    plt.savefig(path, bbox_inches=bbox_inches)\n",
    "    if not print_image:\n",
    "        plt.close()  # 關閉圖像窗口，釋放內存\n",
    "    print(f\"Image saved at {path}\")"
   ]
  },
  {
   "cell_type": "code",
   "execution_count": 5,
   "id": "353355bb",
   "metadata": {
    "execution": {
     "iopub.execute_input": "2024-08-23T10:43:51.369150Z",
     "iopub.status.busy": "2024-08-23T10:43:51.369150Z",
     "iopub.status.idle": "2024-08-23T10:43:51.374937Z",
     "shell.execute_reply": "2024-08-23T10:43:51.374937Z"
    },
    "papermill": {
     "duration": 0.018531,
     "end_time": "2024-08-23T10:43:51.375937",
     "exception": false,
     "start_time": "2024-08-23T10:43:51.357406",
     "status": "completed"
    },
    "tags": []
   },
   "outputs": [
    {
     "data": {
      "text/plain": [
       "'F:/Code/Digital-Image-Processing/Code/Resources/template'"
      ]
     },
     "execution_count": 5,
     "metadata": {},
     "output_type": "execute_result"
    }
   ],
   "source": [
    "folder_path = pathlib.Path(r\"F:\\Code\\Digital-Image-Processing\\Code\\Resources\\template\")\n",
    "folder_path.as_posix()"
   ]
  },
  {
   "cell_type": "code",
   "execution_count": 6,
   "id": "4c5d9c57",
   "metadata": {
    "execution": {
     "iopub.execute_input": "2024-08-23T10:43:51.387544Z",
     "iopub.status.busy": "2024-08-23T10:43:51.387544Z",
     "iopub.status.idle": "2024-08-23T10:43:51.391700Z",
     "shell.execute_reply": "2024-08-23T10:43:51.391700Z"
    },
    "papermill": {
     "duration": 0.010768,
     "end_time": "2024-08-23T10:43:51.391700",
     "exception": false,
     "start_time": "2024-08-23T10:43:51.380932",
     "status": "completed"
    },
    "tags": []
   },
   "outputs": [
    {
     "data": {
      "text/plain": [
       "['line_light_no_p.tif',\n",
       " 'line_light_ok_4cm.tif',\n",
       " 'line_light_ok_6cm.tif',\n",
       " 'twice_p_darkest.tif',\n",
       " 'twice_p_darkest_shodow.tif',\n",
       " '偏振片經二次最暗.tif',\n",
       " '偏振片經二次最暗有遮光.tif',\n",
       " '條型光無偏振.tif',\n",
       " '條形光有偏振4cm.tif',\n",
       " '條形光有偏振6cm.tif']"
      ]
     },
     "execution_count": 6,
     "metadata": {},
     "output_type": "execute_result"
    }
   ],
   "source": [
    "import os\n",
    "origin_image_folder = pathlib.Path(r\"F:\\Code\\Digital-Image-Processing\\Code\\Resources\\Private_Data\")\n",
    "origin_images = os.listdir(origin_image_folder.as_posix())\n",
    "origin_images"
   ]
  },
  {
   "cell_type": "code",
   "execution_count": 7,
   "id": "1ef13c1f",
   "metadata": {
    "execution": {
     "iopub.execute_input": "2024-08-23T10:43:51.402354Z",
     "iopub.status.busy": "2024-08-23T10:43:51.402354Z",
     "iopub.status.idle": "2024-08-23T10:43:51.407992Z",
     "shell.execute_reply": "2024-08-23T10:43:51.407992Z"
    },
    "papermill": {
     "duration": 0.016292,
     "end_time": "2024-08-23T10:43:51.407992",
     "exception": false,
     "start_time": "2024-08-23T10:43:51.391700",
     "status": "completed"
    },
    "tags": []
   },
   "outputs": [
    {
     "data": {
      "text/plain": [
       "'twice_p_darkest_shodow'"
      ]
     },
     "execution_count": 7,
     "metadata": {},
     "output_type": "execute_result"
    }
   ],
   "source": [
    "image_number = param1\n",
    "origin_image_path = origin_image_folder / origin_images[image_number]\n",
    "origin_name = origin_image_path.stem\n",
    "origin_name"
   ]
  },
  {
   "cell_type": "code",
   "execution_count": 8,
   "id": "0a5444f3",
   "metadata": {
    "execution": {
     "iopub.execute_input": "2024-08-23T10:43:51.407992Z",
     "iopub.status.busy": "2024-08-23T10:43:51.407992Z",
     "iopub.status.idle": "2024-08-23T10:43:51.424122Z",
     "shell.execute_reply": "2024-08-23T10:43:51.424122Z"
    },
    "papermill": {
     "duration": 0.01613,
     "end_time": "2024-08-23T10:43:51.424122",
     "exception": false,
     "start_time": "2024-08-23T10:43:51.407992",
     "status": "completed"
    },
    "tags": []
   },
   "outputs": [],
   "source": [
    "export_pdf = True\n",
    "notebook_image_print = False\n",
    "fonts = [r\"F:\\Code\\Digital-Image-Processing\\Code\\Resources\\Fonts\\Times New Roman.ttf\", r\"F:\\Code\\Digital-Image-Processing\\Code\\Resources\\Fonts\\kaiu.ttf\"]\n",
    "pdf_content = [\n",
    "    {'type':'title', 'add': 'AOI Report', 'font':0}\n",
    "    ]"
   ]
  },
  {
   "cell_type": "code",
   "execution_count": 9,
   "id": "6f2d40a8",
   "metadata": {
    "execution": {
     "iopub.execute_input": "2024-08-23T10:43:51.424122Z",
     "iopub.status.busy": "2024-08-23T10:43:51.424122Z",
     "iopub.status.idle": "2024-08-23T10:43:51.440696Z",
     "shell.execute_reply": "2024-08-23T10:43:51.440696Z"
    },
    "papermill": {
     "duration": 0.016574,
     "end_time": "2024-08-23T10:43:51.440696",
     "exception": false,
     "start_time": "2024-08-23T10:43:51.424122",
     "status": "completed"
    },
    "tags": []
   },
   "outputs": [
    {
     "data": {
      "text/plain": [
       "'F:\\\\Code\\\\Digital-Image-Processing\\\\Code\\\\Resources\\\\template\\\\2024-08-23_twice_p_darkest_shodow_aoireport.pdf'"
      ]
     },
     "execution_count": 9,
     "metadata": {},
     "output_type": "execute_result"
    }
   ],
   "source": [
    "import datetime\n",
    "now = datetime.datetime.now()\n",
    "pdfname = f\"{folder_path}\\\\{now.date()}_{origin_name}_aoireport.pdf\"\n",
    "pdfname"
   ]
  },
  {
   "cell_type": "code",
   "execution_count": 10,
   "id": "fda60fe2",
   "metadata": {
    "execution": {
     "iopub.execute_input": "2024-08-23T10:43:51.455202Z",
     "iopub.status.busy": "2024-08-23T10:43:51.454432Z",
     "iopub.status.idle": "2024-08-23T10:43:52.083948Z",
     "shell.execute_reply": "2024-08-23T10:43:52.083948Z"
    },
    "papermill": {
     "duration": 0.643252,
     "end_time": "2024-08-23T10:43:52.083948",
     "exception": false,
     "start_time": "2024-08-23T10:43:51.440696",
     "status": "completed"
    },
    "tags": []
   },
   "outputs": [
    {
     "name": "stdout",
     "output_type": "stream",
     "text": [
      "Image saved at F:\\Code\\Digital-Image-Processing\\Code\\Resources\\template\\origin.jpg\n"
     ]
    }
   ],
   "source": [
    "# 讀取圖片，使用灰階模式\n",
    "origin = cv2.imread(origin_image_path.as_posix(), cv2.IMREAD_GRAYSCALE)\n",
    "\n",
    "save_params = {\n",
    "            'folder_path': folder_path,\n",
    "            'name': 'origin.jpg',\n",
    "            'bbox_inches': 'tight'\n",
    "        }\n",
    "save_plt_image(origin, save_params, print_image=notebook_image_print)"
   ]
  },
  {
   "cell_type": "code",
   "execution_count": 11,
   "id": "acf5681d",
   "metadata": {
    "execution": {
     "iopub.execute_input": "2024-08-23T10:43:52.083948Z",
     "iopub.status.busy": "2024-08-23T10:43:52.083948Z",
     "iopub.status.idle": "2024-08-23T10:43:52.100078Z",
     "shell.execute_reply": "2024-08-23T10:43:52.100078Z"
    },
    "papermill": {
     "duration": 0.01613,
     "end_time": "2024-08-23T10:43:52.100078",
     "exception": false,
     "start_time": "2024-08-23T10:43:52.083948",
     "status": "completed"
    },
    "tags": []
   },
   "outputs": [],
   "source": [
    "addcontent = [{'type':'content', 'add': '原圖', 'font':1},\n",
    "    {'type':'image', 'add': (folder_path / 'origin.jpg').as_posix(), 'font':0},]\n",
    "\n",
    "pdf_content.extend(addcontent)\n",
    "    "
   ]
  },
  {
   "cell_type": "markdown",
   "id": "6053eee3",
   "metadata": {
    "papermill": {
     "duration": 0.0,
     "end_time": "2024-08-23T10:43:52.100078",
     "exception": false,
     "start_time": "2024-08-23T10:43:52.100078",
     "status": "completed"
    },
    "tags": []
   },
   "source": [
    "## 門檻化"
   ]
  },
  {
   "cell_type": "code",
   "execution_count": 12,
   "id": "b81f5d35",
   "metadata": {
    "execution": {
     "iopub.execute_input": "2024-08-23T10:43:52.126460Z",
     "iopub.status.busy": "2024-08-23T10:43:52.125972Z",
     "iopub.status.idle": "2024-08-23T10:43:52.128546Z",
     "shell.execute_reply": "2024-08-23T10:43:52.128546Z"
    },
    "papermill": {
     "duration": 0.012842,
     "end_time": "2024-08-23T10:43:52.128546",
     "exception": false,
     "start_time": "2024-08-23T10:43:52.115704",
     "status": "completed"
    },
    "tags": []
   },
   "outputs": [],
   "source": [
    "image = origin # origin add_image hs sobel_vertical sobel_horizontal laplacian_abs"
   ]
  },
  {
   "cell_type": "code",
   "execution_count": 13,
   "id": "903b4464",
   "metadata": {
    "execution": {
     "iopub.execute_input": "2024-08-23T10:43:52.139605Z",
     "iopub.status.busy": "2024-08-23T10:43:52.139605Z",
     "iopub.status.idle": "2024-08-23T10:43:52.147928Z",
     "shell.execute_reply": "2024-08-23T10:43:52.147928Z"
    },
    "papermill": {
     "duration": 0.011419,
     "end_time": "2024-08-23T10:43:52.147928",
     "exception": false,
     "start_time": "2024-08-23T10:43:52.136509",
     "status": "completed"
    },
    "tags": []
   },
   "outputs": [],
   "source": [
    "def image_binary(image, standard=2, threshold_value=False, print_image=True, print_threshold=False):\n",
    "    mean = np.mean(image)\n",
    "    std_dev = np.std(image)\n",
    "    \n",
    "    if not threshold_value:\n",
    "        threshold_value = min(mean+std_dev*standard, 255) if mean+std_dev*standard >0 else 0\n",
    "        threshold_value = int(threshold_value)\n",
    "    \n",
    "    # 根據門檻值進行二值化\n",
    "    _, binary_image = cv2.threshold(image, threshold_value, 255, cv2.THRESH_BINARY)\n",
    "    \n",
    "    if print_image:\n",
    "    # 顯示二值化後的圖片\n",
    "        plt.figure(figsize=(8, 6))\n",
    "        plt.imshow(binary_image, cmap='gray')\n",
    "        plt.title('Binary Image')\n",
    "        plt.axis('off')\n",
    "        plt.show()\n",
    "    \n",
    "    if print_threshold:\n",
    "        print(f\"mean+std_dev*standard: {mean+std_dev*standard}, final thershold = {threshold_value}\")\n",
    "    \n",
    "    return binary_image"
   ]
  },
  {
   "cell_type": "code",
   "execution_count": 14,
   "id": "1df49a18",
   "metadata": {
    "execution": {
     "iopub.execute_input": "2024-08-23T10:43:52.161472Z",
     "iopub.status.busy": "2024-08-23T10:43:52.161472Z",
     "iopub.status.idle": "2024-08-23T10:43:52.783207Z",
     "shell.execute_reply": "2024-08-23T10:43:52.783207Z"
    },
    "papermill": {
     "duration": 0.627729,
     "end_time": "2024-08-23T10:43:52.783207",
     "exception": false,
     "start_time": "2024-08-23T10:43:52.155478",
     "status": "completed"
    },
    "tags": []
   },
   "outputs": [
    {
     "name": "stdout",
     "output_type": "stream",
     "text": [
      "Image saved at F:\\Code\\Digital-Image-Processing\\Code\\Resources\\template\\instant binary.jpg\n"
     ]
    }
   ],
   "source": [
    "binary_image = image_binary(image, standard=2, print_image=False, print_threshold=False)\n",
    "\n",
    "save_params = {\n",
    "    'folder_path': folder_path,\n",
    "    'name': 'instant binary.jpg',\n",
    "    'cmap': 'gray',\n",
    "    'bbox_inches': 'tight'\n",
    "}\n",
    "save_plt_image(binary_image, save_params, print_image=notebook_image_print)"
   ]
  },
  {
   "cell_type": "code",
   "execution_count": 15,
   "id": "30afbe21",
   "metadata": {
    "execution": {
     "iopub.execute_input": "2024-08-23T10:43:52.798959Z",
     "iopub.status.busy": "2024-08-23T10:43:52.797846Z",
     "iopub.status.idle": "2024-08-23T10:43:52.803091Z",
     "shell.execute_reply": "2024-08-23T10:43:52.801854Z"
    },
    "papermill": {
     "duration": 0.020788,
     "end_time": "2024-08-23T10:43:52.803995",
     "exception": false,
     "start_time": "2024-08-23T10:43:52.783207",
     "status": "completed"
    },
    "tags": []
   },
   "outputs": [],
   "source": [
    "addcontent = [    {'type':'content', 'add': 'instant binary, 兩倍標準差', 'font':1},\n",
    "    {'type':'image', 'add': (folder_path / 'sobel_vertical.jpg').as_posix(), 'font':0},\n",
    "]\n",
    "\n",
    "pdf_content.extend(addcontent)"
   ]
  },
  {
   "cell_type": "code",
   "execution_count": 16,
   "id": "db46a46f",
   "metadata": {
    "execution": {
     "iopub.execute_input": "2024-08-23T10:43:52.803995Z",
     "iopub.status.busy": "2024-08-23T10:43:52.803995Z",
     "iopub.status.idle": "2024-08-23T10:43:52.952302Z",
     "shell.execute_reply": "2024-08-23T10:43:52.952302Z"
    },
    "papermill": {
     "duration": 0.148307,
     "end_time": "2024-08-23T10:43:52.952302",
     "exception": false,
     "start_time": "2024-08-23T10:43:52.803995",
     "status": "completed"
    },
    "tags": []
   },
   "outputs": [],
   "source": [
    "ksize = 5\n",
    "\n",
    "# 應用垂直Sobel濾波\n",
    "sobel_vertical = cv2.Sobel(image, cv2.CV_64F, 1, 0, ksize=ksize)\n",
    "\n",
    "# 轉換結果以便於顯示\n",
    "sobel_vertical = np.abs(sobel_vertical)\n",
    "sobel_vertical = np.uint8(np.clip(sobel_vertical, 0, 255))\n",
    "\n",
    "# 應用水平Sobel濾波\n",
    "sobel_horizontal = cv2.Sobel(image, cv2.CV_64F, 0, 1, ksize=ksize)\n",
    "\n",
    "# 轉換結果以便於顯示\n",
    "sobel_horizontal = np.abs(sobel_horizontal)\n",
    "sobel_horizontal = np.uint8(np.clip(sobel_horizontal, 0, 255))\n",
    "\n",
    "# # 顯示原始影像和Sobel垂直結果\n",
    "# plt.figure(figsize=(18, 6))\n",
    "\n",
    "# plt.subplot(1, 3, 1)\n",
    "# plt.imshow(image, cmap='gray')\n",
    "# plt.title('Original Image')\n",
    "# plt.axis('off')\n",
    "\n",
    "# plt.subplot(1, 3, 2)\n",
    "# plt.imshow(sobel_vertical, cmap='gray')\n",
    "# plt.title('Vertical Sobel')\n",
    "# plt.axis('off')\n",
    "\n",
    "# plt.subplot(1, 3, 3)\n",
    "# plt.imshow(sobel_horizontal, cmap='gray')\n",
    "# plt.title('Horizontal Sobel')\n",
    "# plt.axis('off')\n",
    "\n",
    "# plt.show()\n"
   ]
  },
  {
   "cell_type": "code",
   "execution_count": 17,
   "id": "8e774eb5",
   "metadata": {
    "execution": {
     "iopub.execute_input": "2024-08-23T10:43:52.968181Z",
     "iopub.status.busy": "2024-08-23T10:43:52.967426Z",
     "iopub.status.idle": "2024-08-23T10:43:52.971861Z",
     "shell.execute_reply": "2024-08-23T10:43:52.970859Z"
    },
    "papermill": {
     "duration": 0.020394,
     "end_time": "2024-08-23T10:43:52.972696",
     "exception": false,
     "start_time": "2024-08-23T10:43:52.952302",
     "status": "completed"
    },
    "tags": []
   },
   "outputs": [],
   "source": [
    "# save_params = {\n",
    "#     'folder_path': folder_path,\n",
    "#     'name': 'sobel_horizontal.jpg',\n",
    "#     'cmap': 'gray',\n",
    "#     'bbox_inches': 'tight'\n",
    "# }\n",
    "# save_plt_image(sobel_horizontal, save_params, print_image=notebook_image_print)\n",
    "# save_params = {\n",
    "#     'folder_path': folder_path,\n",
    "#     'name': 'sobel_vertical.jpg',\n",
    "#     'cmap': 'gray',\n",
    "#     'bbox_inches': 'tight'\n",
    "# }\n",
    "# save_plt_image(sobel_vertical, save_params, print_image=notebook_image_print)"
   ]
  },
  {
   "cell_type": "code",
   "execution_count": 18,
   "id": "0316c967",
   "metadata": {
    "execution": {
     "iopub.execute_input": "2024-08-23T10:43:52.985441Z",
     "iopub.status.busy": "2024-08-23T10:43:52.985441Z",
     "iopub.status.idle": "2024-08-23T10:43:53.103957Z",
     "shell.execute_reply": "2024-08-23T10:43:53.103957Z"
    },
    "papermill": {
     "duration": 0.12967,
     "end_time": "2024-08-23T10:43:53.103957",
     "exception": false,
     "start_time": "2024-08-23T10:43:52.974287",
     "status": "completed"
    },
    "tags": []
   },
   "outputs": [
    {
     "name": "stdout",
     "output_type": "stream",
     "text": [
      "mean+std_dev*standard: 49.722099821168385, final thershold = 49\n",
      "mean+std_dev*standard: 59.61623616482237, final thershold = 59\n"
     ]
    }
   ],
   "source": [
    "standard = 2\n",
    "\n",
    "binary_image = image_binary(image, standard=standard, print_image=False)\n",
    "binary_sobel_vertical = image_binary(sobel_vertical, standard=standard, print_image=False, print_threshold=True)\n",
    "binary_sobel_horizontal = image_binary(sobel_horizontal, standard=standard, print_image=False, print_threshold=True)\n",
    "\n",
    "# # 顯示原始影像和Sobel垂直結果\n",
    "# plt.figure(figsize=(18, 6))\n",
    "\n",
    "# plt.subplot(1, 3, 1)\n",
    "# plt.imshow(binary_image, cmap='gray')\n",
    "# plt.title('Binary Original Image')\n",
    "# plt.axis('off')\n",
    "\n",
    "# plt.subplot(1, 3, 2)\n",
    "# plt.imshow(binary_sobel_vertical, cmap='gray')\n",
    "# plt.title('Binary Vertical Sobel')\n",
    "# plt.axis('off')\n",
    "\n",
    "# plt.subplot(1, 3, 3)\n",
    "# plt.imshow(binary_sobel_horizontal, cmap='gray')\n",
    "# plt.title('Binary Horizontal Sobel')\n",
    "# plt.axis('off')\n",
    "\n",
    "# plt.show()\n"
   ]
  },
  {
   "cell_type": "code",
   "execution_count": 19,
   "id": "9efa871d",
   "metadata": {
    "execution": {
     "iopub.execute_input": "2024-08-23T10:43:53.118994Z",
     "iopub.status.busy": "2024-08-23T10:43:53.117995Z",
     "iopub.status.idle": "2024-08-23T10:43:54.277714Z",
     "shell.execute_reply": "2024-08-23T10:43:54.277714Z"
    },
    "papermill": {
     "duration": 1.173757,
     "end_time": "2024-08-23T10:43:54.277714",
     "exception": false,
     "start_time": "2024-08-23T10:43:53.103957",
     "status": "completed"
    },
    "tags": []
   },
   "outputs": [
    {
     "name": "stdout",
     "output_type": "stream",
     "text": [
      "Image saved at F:\\Code\\Digital-Image-Processing\\Code\\Resources\\template\\binary_sobel_vertical.jpg\n"
     ]
    },
    {
     "name": "stdout",
     "output_type": "stream",
     "text": [
      "Image saved at F:\\Code\\Digital-Image-Processing\\Code\\Resources\\template\\binary_sobel_horizontal.jpg\n"
     ]
    }
   ],
   "source": [
    "save_params = {\n",
    "    'folder_path': folder_path,\n",
    "    'name': 'binary_sobel_vertical.jpg',\n",
    "    'cmap': 'gray',\n",
    "    'bbox_inches': 'tight'\n",
    "}\n",
    "save_plt_image(binary_sobel_vertical, save_params, print_image=notebook_image_print)\n",
    "save_params = {\n",
    "    'folder_path': folder_path,\n",
    "    'name': 'binary_sobel_horizontal.jpg',\n",
    "    'cmap': 'gray',\n",
    "    'bbox_inches': 'tight'\n",
    "}\n",
    "save_plt_image(binary_sobel_horizontal, save_params, print_image=notebook_image_print)"
   ]
  },
  {
   "cell_type": "code",
   "execution_count": 20,
   "id": "fdc68842",
   "metadata": {
    "execution": {
     "iopub.execute_input": "2024-08-23T10:43:54.277714Z",
     "iopub.status.busy": "2024-08-23T10:43:54.277714Z",
     "iopub.status.idle": "2024-08-23T10:43:54.296225Z",
     "shell.execute_reply": "2024-08-23T10:43:54.296225Z"
    },
    "papermill": {
     "duration": 0.018511,
     "end_time": "2024-08-23T10:43:54.296225",
     "exception": false,
     "start_time": "2024-08-23T10:43:54.277714",
     "status": "completed"
    },
    "tags": []
   },
   "outputs": [],
   "source": [
    "addcontent = [       {'type':'content', 'add': '垂直Sobel後二值化', 'font':1},\n",
    "    {'type':'image', 'add': (folder_path / 'binary_sobel_vertical.jpg').as_posix(), 'font':0},\n",
    "    \n",
    "    {'type':'content', 'add': '水平Sobel後二值化', 'font':1},\n",
    "    {'type':'image', 'add': (folder_path / 'binary_sobel_horizontal.jpg').as_posix(), 'font':0},\n",
    "]\n",
    "\n",
    "pdf_content.extend(addcontent)\n",
    "\n",
    "    "
   ]
  },
  {
   "cell_type": "code",
   "execution_count": 21,
   "id": "2d044b6a",
   "metadata": {
    "execution": {
     "iopub.execute_input": "2024-08-23T10:43:54.313280Z",
     "iopub.status.busy": "2024-08-23T10:43:54.312700Z",
     "iopub.status.idle": "2024-08-23T10:43:54.356794Z",
     "shell.execute_reply": "2024-08-23T10:43:54.356369Z"
    },
    "papermill": {
     "duration": 0.060569,
     "end_time": "2024-08-23T10:43:54.356794",
     "exception": false,
     "start_time": "2024-08-23T10:43:54.296225",
     "status": "completed"
    },
    "tags": []
   },
   "outputs": [],
   "source": [
    "image = origin\n",
    "\n",
    "# 應用拉普拉斯算子\n",
    "laplacian = cv2.Laplacian(image, cv2.CV_64F, ksize=5)  # 設置kernel size\n",
    "\n",
    "# 將結果轉換為絕對值並縮放到8位\n",
    "laplacian_abs = cv2.convertScaleAbs(laplacian)\n",
    "\n",
    "# # 顯示原始影像和拉普拉斯結果\n",
    "# plt.figure(figsize=(12, 6))\n",
    "\n",
    "# plt.subplot(1, 2, 1)\n",
    "# plt.imshow(image, cmap='gray')\n",
    "# plt.title('Original Image')\n",
    "# plt.axis('off')\n",
    "\n",
    "# plt.subplot(1, 2, 2)\n",
    "# plt.imshow(laplacian_abs, cmap='gray')\n",
    "# plt.title('Laplacian')\n",
    "# plt.axis('off')\n",
    "\n",
    "# plt.show()"
   ]
  },
  {
   "cell_type": "code",
   "execution_count": 22,
   "id": "416c4b93",
   "metadata": {
    "execution": {
     "iopub.execute_input": "2024-08-23T10:43:54.369668Z",
     "iopub.status.busy": "2024-08-23T10:43:54.369668Z",
     "iopub.status.idle": "2024-08-23T10:43:54.413479Z",
     "shell.execute_reply": "2024-08-23T10:43:54.413479Z"
    },
    "papermill": {
     "duration": 0.056685,
     "end_time": "2024-08-23T10:43:54.413479",
     "exception": false,
     "start_time": "2024-08-23T10:43:54.356794",
     "status": "completed"
    },
    "tags": []
   },
   "outputs": [],
   "source": [
    "binary_laplacian_abs = image_binary(laplacian_abs, print_image=False)"
   ]
  },
  {
   "cell_type": "code",
   "execution_count": 23,
   "id": "706a749b",
   "metadata": {
    "execution": {
     "iopub.execute_input": "2024-08-23T10:43:54.429376Z",
     "iopub.status.busy": "2024-08-23T10:43:54.428728Z",
     "iopub.status.idle": "2024-08-23T10:43:55.004415Z",
     "shell.execute_reply": "2024-08-23T10:43:55.004415Z"
    },
    "papermill": {
     "duration": 0.590936,
     "end_time": "2024-08-23T10:43:55.004415",
     "exception": false,
     "start_time": "2024-08-23T10:43:54.413479",
     "status": "completed"
    },
    "tags": []
   },
   "outputs": [
    {
     "name": "stdout",
     "output_type": "stream",
     "text": [
      "Image saved at F:\\Code\\Digital-Image-Processing\\Code\\Resources\\template\\binary_laplacian_abs.jpg\n"
     ]
    }
   ],
   "source": [
    "save_params = {\n",
    "    'folder_path': folder_path,\n",
    "    'name': 'binary_laplacian_abs.jpg',\n",
    "    'cmap': 'gray',\n",
    "    'bbox_inches': 'tight'\n",
    "}\n",
    "save_plt_image(binary_laplacian_abs, save_params, print_image=notebook_image_print)"
   ]
  },
  {
   "cell_type": "code",
   "execution_count": 24,
   "id": "86a44651",
   "metadata": {
    "execution": {
     "iopub.execute_input": "2024-08-23T10:43:55.004415Z",
     "iopub.status.busy": "2024-08-23T10:43:55.004415Z",
     "iopub.status.idle": "2024-08-23T10:43:55.022124Z",
     "shell.execute_reply": "2024-08-23T10:43:55.022124Z"
    },
    "papermill": {
     "duration": 0.017709,
     "end_time": "2024-08-23T10:43:55.022124",
     "exception": false,
     "start_time": "2024-08-23T10:43:55.004415",
     "status": "completed"
    },
    "tags": []
   },
   "outputs": [],
   "source": [
    "addcontent = [{'type':'content', 'add': '拉普拉斯後二值化', 'font':1},\n",
    "    {'type':'image', 'add': (folder_path / 'binary_laplacian_abs.jpg').as_posix(), 'font':0},\n",
    "]\n",
    "\n",
    "pdf_content.extend(addcontent)\n",
    "\n",
    "    "
   ]
  },
  {
   "cell_type": "code",
   "execution_count": 25,
   "id": "930b7721",
   "metadata": {
    "execution": {
     "iopub.execute_input": "2024-08-23T10:43:55.038612Z",
     "iopub.status.busy": "2024-08-23T10:43:55.037628Z",
     "iopub.status.idle": "2024-08-23T10:43:55.623587Z",
     "shell.execute_reply": "2024-08-23T10:43:55.623587Z"
    },
    "papermill": {
     "duration": 0.601463,
     "end_time": "2024-08-23T10:43:55.623587",
     "exception": false,
     "start_time": "2024-08-23T10:43:55.022124",
     "status": "completed"
    },
    "tags": []
   },
   "outputs": [
    {
     "name": "stdout",
     "output_type": "stream",
     "text": [
      "Image saved at F:\\Code\\Digital-Image-Processing\\Code\\Resources\\template\\binary_laplacian_abs.jpg\n"
     ]
    }
   ],
   "source": [
    "# save_params = {\n",
    "#     'folder_path': folder_path,\n",
    "#     'name': 'laplacian_abs.jpg',\n",
    "#     'cmap': 'gray',\n",
    "#     'bbox_inches': 'tight'\n",
    "# }\n",
    "# save_plt_image(laplacian_abs, save_params, print_image=notebook_image_print)\n",
    "save_params = {\n",
    "    'folder_path': folder_path,\n",
    "    'name': 'binary_laplacian_abs.jpg',\n",
    "    'cmap': 'gray',\n",
    "    'bbox_inches': 'tight'\n",
    "}\n",
    "save_plt_image(binary_laplacian_abs, save_params, print_image=notebook_image_print)"
   ]
  },
  {
   "cell_type": "code",
   "execution_count": 26,
   "id": "f9287915",
   "metadata": {
    "execution": {
     "iopub.execute_input": "2024-08-23T10:43:55.641402Z",
     "iopub.status.busy": "2024-08-23T10:43:55.640762Z",
     "iopub.status.idle": "2024-08-23T10:43:55.746937Z",
     "shell.execute_reply": "2024-08-23T10:43:55.746937Z"
    },
    "papermill": {
     "duration": 0.12335,
     "end_time": "2024-08-23T10:43:55.746937",
     "exception": false,
     "start_time": "2024-08-23T10:43:55.623587",
     "status": "completed"
    },
    "tags": []
   },
   "outputs": [],
   "source": [
    "def get_lines_hough(image, threshold=50, min_line_length=100, max_line_gap=5):\n",
    "    # 使用 HoughLinesP 函數來檢測影像中的直線\n",
    "    lines = cv2.HoughLinesP(image, rho=1, theta=np.pi/180, threshold=threshold,\n",
    "                            minLineLength=min_line_length, maxLineGap=max_line_gap)\n",
    "    \n",
    "    # 創建一個空白影像，用於繪製檢測到的直線\n",
    "    lines_image = np.zeros_like(image)\n",
    "    \n",
    "    if lines is not None:\n",
    "        for line in lines:\n",
    "            for x1, y1, x2, y2 in line:\n",
    "                cv2.line(lines_image, (x1, y1), (x2, y2), 255, 1)\n",
    "    \n",
    "    return lines_image\n",
    "\n",
    "lines_image = get_lines_hough(binary_laplacian_abs)\n",
    "# plt.figure(figsize=(7, 7))\n",
    "# plt.imshow(lines_image, cmap='gray')\n",
    "# plt.title('binary_laplacian_abs Extracted Lines')\n",
    "# plt.axis('off')"
   ]
  },
  {
   "cell_type": "code",
   "execution_count": 27,
   "id": "737bc210",
   "metadata": {
    "execution": {
     "iopub.execute_input": "2024-08-23T10:43:55.764065Z",
     "iopub.status.busy": "2024-08-23T10:43:55.763231Z",
     "iopub.status.idle": "2024-08-23T10:43:56.353655Z",
     "shell.execute_reply": "2024-08-23T10:43:56.353655Z"
    },
    "papermill": {
     "duration": 0.606718,
     "end_time": "2024-08-23T10:43:56.353655",
     "exception": false,
     "start_time": "2024-08-23T10:43:55.746937",
     "status": "completed"
    },
    "tags": []
   },
   "outputs": [
    {
     "name": "stdout",
     "output_type": "stream",
     "text": [
      "Image saved at F:\\Code\\Digital-Image-Processing\\Code\\Resources\\template\\lines_binary_laplacian_abs.jpg\n"
     ]
    }
   ],
   "source": [
    "save_params = {\n",
    "    'folder_path': folder_path,\n",
    "    'name': 'lines_binary_laplacian_abs.jpg',\n",
    "    'cmap': 'gray',\n",
    "    'bbox_inches': 'tight'\n",
    "}\n",
    "save_plt_image(lines_image, save_params, print_image=notebook_image_print)"
   ]
  },
  {
   "cell_type": "code",
   "execution_count": 28,
   "id": "97f000d4",
   "metadata": {
    "execution": {
     "iopub.execute_input": "2024-08-23T10:43:56.371386Z",
     "iopub.status.busy": "2024-08-23T10:43:56.370593Z",
     "iopub.status.idle": "2024-08-23T10:43:56.373902Z",
     "shell.execute_reply": "2024-08-23T10:43:56.373902Z"
    },
    "papermill": {
     "duration": 0.020247,
     "end_time": "2024-08-23T10:43:56.373902",
     "exception": false,
     "start_time": "2024-08-23T10:43:56.353655",
     "status": "completed"
    },
    "tags": []
   },
   "outputs": [],
   "source": [
    "addcontent = [    \n",
    "    {'type':'content', 'add': '拉普拉斯二值化後霍夫法取線段', 'font':1},\n",
    "    {'type':'image', 'add': (folder_path / 'lines_binary_laplacian_abs.jpg').as_posix(), 'font':0},\n",
    " ]\n",
    "\n",
    "pdf_content.extend(addcontent)\n",
    "\n",
    "    "
   ]
  },
  {
   "cell_type": "code",
   "execution_count": 29,
   "id": "b67fb446",
   "metadata": {
    "execution": {
     "iopub.execute_input": "2024-08-23T10:43:56.389302Z",
     "iopub.status.busy": "2024-08-23T10:43:56.389302Z",
     "iopub.status.idle": "2024-08-23T10:43:57.046254Z",
     "shell.execute_reply": "2024-08-23T10:43:57.046254Z"
    },
    "papermill": {
     "duration": 0.672352,
     "end_time": "2024-08-23T10:43:57.046254",
     "exception": false,
     "start_time": "2024-08-23T10:43:56.373902",
     "status": "completed"
    },
    "tags": []
   },
   "outputs": [
    {
     "name": "stdout",
     "output_type": "stream",
     "text": [
      "Image saved at F:\\Code\\Digital-Image-Processing\\Code\\Resources\\template\\lines_binary_sobel_horizontal.jpg\n"
     ]
    }
   ],
   "source": [
    "lines_image = get_lines_hough(binary_sobel_horizontal)\n",
    "save_params = {\n",
    "    'folder_path': folder_path,\n",
    "    'name': 'lines_binary_sobel_horizontal.jpg',\n",
    "    'cmap': 'gray',\n",
    "    'bbox_inches': 'tight'\n",
    "}\n",
    "save_plt_image(lines_image, save_params, print_image=notebook_image_print)\n",
    "# plt.imshow(lines_image, cmap='gray')"
   ]
  },
  {
   "cell_type": "code",
   "execution_count": 30,
   "id": "a9e60e23",
   "metadata": {
    "execution": {
     "iopub.execute_input": "2024-08-23T10:43:57.063474Z",
     "iopub.status.busy": "2024-08-23T10:43:57.062616Z",
     "iopub.status.idle": "2024-08-23T10:43:57.066154Z",
     "shell.execute_reply": "2024-08-23T10:43:57.066154Z"
    },
    "papermill": {
     "duration": 0.0199,
     "end_time": "2024-08-23T10:43:57.066154",
     "exception": false,
     "start_time": "2024-08-23T10:43:57.046254",
     "status": "completed"
    },
    "tags": []
   },
   "outputs": [],
   "source": [
    "addcontent = [    \n",
    "    {'type':'content', 'add': '垂直Sobel二值化後霍夫法取線段', 'font':1},\n",
    "    {'type':'image', 'add': (folder_path / 'lines_binary_sobel_vertical.jpg').as_posix(), 'font':0},\n",
    "]\n",
    "\n",
    "pdf_content.extend(addcontent)\n",
    "\n",
    "    "
   ]
  },
  {
   "cell_type": "code",
   "execution_count": 31,
   "id": "8a5a7cb5",
   "metadata": {
    "execution": {
     "iopub.execute_input": "2024-08-23T10:43:57.070226Z",
     "iopub.status.busy": "2024-08-23T10:43:57.070226Z",
     "iopub.status.idle": "2024-08-23T10:43:57.757717Z",
     "shell.execute_reply": "2024-08-23T10:43:57.757717Z"
    },
    "papermill": {
     "duration": 0.687491,
     "end_time": "2024-08-23T10:43:57.757717",
     "exception": false,
     "start_time": "2024-08-23T10:43:57.070226",
     "status": "completed"
    },
    "tags": []
   },
   "outputs": [
    {
     "name": "stdout",
     "output_type": "stream",
     "text": [
      "Image saved at F:\\Code\\Digital-Image-Processing\\Code\\Resources\\template\\lines_binary_sobel_vertical.jpg\n"
     ]
    }
   ],
   "source": [
    "lines_image = get_lines_hough(binary_sobel_vertical)\n",
    "save_params = {\n",
    "    'folder_path': folder_path,\n",
    "    'name': 'lines_binary_sobel_vertical.jpg',\n",
    "    'cmap': 'gray',\n",
    "    'bbox_inches': 'tight'\n",
    "}\n",
    "save_plt_image(lines_image, save_params, print_image=notebook_image_print)\n",
    "# plt.imshow(lines_image, cmap='gray')"
   ]
  },
  {
   "cell_type": "code",
   "execution_count": 32,
   "id": "1875a28e",
   "metadata": {
    "execution": {
     "iopub.execute_input": "2024-08-23T10:43:57.773712Z",
     "iopub.status.busy": "2024-08-23T10:43:57.773712Z",
     "iopub.status.idle": "2024-08-23T10:43:57.778902Z",
     "shell.execute_reply": "2024-08-23T10:43:57.778902Z"
    },
    "papermill": {
     "duration": 0.021185,
     "end_time": "2024-08-23T10:43:57.778902",
     "exception": false,
     "start_time": "2024-08-23T10:43:57.757717",
     "status": "completed"
    },
    "tags": []
   },
   "outputs": [],
   "source": [
    "addcontent = [    \n",
    "    {'type':'content', 'add': '水平Sobel二值化後霍夫法取線段', 'font':1},\n",
    "    {'type':'image', 'add': (folder_path / 'lines_binary_sobel_horizontal.jpg').as_posix(), 'font':0},\n",
    "]\n",
    "\n",
    "pdf_content.extend(addcontent)   "
   ]
  },
  {
   "cell_type": "code",
   "execution_count": 33,
   "id": "0678921f",
   "metadata": {
    "execution": {
     "iopub.execute_input": "2024-08-23T10:43:57.786644Z",
     "iopub.status.busy": "2024-08-23T10:43:57.786644Z",
     "iopub.status.idle": "2024-08-23T10:43:57.912999Z",
     "shell.execute_reply": "2024-08-23T10:43:57.912999Z"
    },
    "papermill": {
     "duration": 0.126355,
     "end_time": "2024-08-23T10:43:57.912999",
     "exception": false,
     "start_time": "2024-08-23T10:43:57.786644",
     "status": "completed"
    },
    "tags": []
   },
   "outputs": [],
   "source": [
    "from PIL import Image as PILImage\n",
    "from reportlab.lib.pagesizes import A4\n",
    "from reportlab.lib.units import inch\n",
    "from reportlab.platypus import SimpleDocTemplate, Paragraph, Spacer, Image\n",
    "from reportlab.lib.styles import getSampleStyleSheet, ParagraphStyle\n",
    "from reportlab.pdfbase.ttfonts import TTFont\n",
    "from reportlab.pdfbase import pdfmetrics\n",
    "from reportlab.lib.enums import TA_LEFT, TA_CENTER, TA_RIGHT\n",
    "\n",
    "class PDFReport:\n",
    "    def __init__(self, name, fonts=None) -> None:\n",
    "        self.pdf_name = name\n",
    "        self.story = []\n",
    "        self.doc = SimpleDocTemplate(self.pdf_name, pagesize=A4)\n",
    "        self.styles = getSampleStyleSheet()  # 定義樣式表\n",
    "        \n",
    "        if fonts:\n",
    "            self.font_create(fonts)\n",
    "        else:\n",
    "            self.fonts = [self.styles['BodyText']]  # 使用默認字體\n",
    "\n",
    "    def image_pdf_wh(self, image_path):\n",
    "        with PILImage.open(image_path) as img:\n",
    "            img_width, img_height = img.size  # 圖片的寬度和高度（像素）\n",
    "\n",
    "        max_width_inch = 7\n",
    "        max_height_inch = 4\n",
    "        \n",
    "        aspect_ratio = img_width / img_height\n",
    "\n",
    "        if img_width > img_height:\n",
    "            display_width = min(max_width_inch, img_width / img_height * max_height_inch)\n",
    "            display_height = display_width / aspect_ratio\n",
    "        else:\n",
    "            display_height = min(max_height_inch, img_height / img_width * max_width_inch)\n",
    "            display_width = display_height * aspect_ratio\n",
    "\n",
    "        return display_width, display_height\n",
    "    \n",
    "    def add_image(self, image_path):\n",
    "        display_width, display_height = self.image_pdf_wh(image_path)\n",
    "        img = Image(image_path, display_width * inch, display_height * inch)\n",
    "        self.story.append(img)\n",
    "        self.story.append(Spacer(1, 12))\n",
    "    \n",
    "    def add_title(self, title, font=0, font_size=16, alignment=TA_CENTER):\n",
    "        if font_size:\n",
    "            self.fonts[font].fontSize = font_size\n",
    "        if alignment:\n",
    "            self.fonts[font].alignment = alignment\n",
    "        self.story.append(Paragraph(title, self.fonts[font]))\n",
    "        self.story.append(Spacer(1, 12))\n",
    "\n",
    "    def add_content(self, text_content, font=0, font_size=None, alignment=None):\n",
    "        if font_size:\n",
    "            self.fonts[font].fontSize = font_size\n",
    "        if alignment:\n",
    "            self.fonts[font].alignment = alignment\n",
    "        self.story.append(Paragraph(text_content, self.fonts[font]))\n",
    "        self.story.append(Spacer(1, 12))\n",
    "\n",
    "    \n",
    "    def font_create(self, fonts, font_sizes=None, alignments=None):\n",
    "        self.fonts = []\n",
    "        if font_sizes is None:\n",
    "            font_sizes = [12] * len(fonts)  # 默認字體大小為12\n",
    "        if alignments is None:\n",
    "            alignments = [TA_LEFT] * len(fonts)  # 默認為左對齊\n",
    "\n",
    "        for i in range(len(fonts)):\n",
    "            fontname = f'font{i}'\n",
    "            pdfmetrics.registerFont(TTFont(fontname, fonts[i]))\n",
    "            style = ParagraphStyle(\n",
    "                name=fontname,\n",
    "                fontName=fontname,\n",
    "                fontSize=font_sizes[i],  # 設置字體大小\n",
    "                alignment=alignments[i],  # 設置對齊方式\n",
    "                parent=self.styles[\"Normal\"],\n",
    "            )\n",
    "            self.fonts.append(style)\n",
    "\n",
    "            \n",
    "    def create(self):\n",
    "        self.doc.build(self.story)\n",
    "        print(f\"PDF報告已生成：{self.pdf_name}\")"
   ]
  },
  {
   "cell_type": "code",
   "execution_count": 34,
   "id": "3f87bd6c",
   "metadata": {
    "execution": {
     "iopub.execute_input": "2024-08-23T10:43:57.930939Z",
     "iopub.status.busy": "2024-08-23T10:43:57.930422Z",
     "iopub.status.idle": "2024-08-23T10:43:58.249657Z",
     "shell.execute_reply": "2024-08-23T10:43:58.249657Z"
    },
    "papermill": {
     "duration": 0.336658,
     "end_time": "2024-08-23T10:43:58.249657",
     "exception": false,
     "start_time": "2024-08-23T10:43:57.912999",
     "status": "completed"
    },
    "tags": []
   },
   "outputs": [
    {
     "name": "stdout",
     "output_type": "stream",
     "text": [
      "PDF報告已生成：F:\\Code\\Digital-Image-Processing\\Code\\Resources\\template\\2024-08-23_twice_p_darkest_shodow_aoireport.pdf\n"
     ]
    }
   ],
   "source": [
    "report = PDFReport(name=pdfname, fonts=fonts)\n",
    "\n",
    "for content in pdf_content:\n",
    "    if content.get('type') == 'title':\n",
    "        report.add_title(content.get('add'), font=content.get('font'))\n",
    "    elif content.get('type') == 'content':\n",
    "        report.add_content(content.get('add'), font=content.get('font'))\n",
    "    elif content.get('type') == 'image':\n",
    "        report.add_image(content.get('add'))\n",
    "    \n",
    "report.create()"
   ]
  }
 ],
 "metadata": {
  "kernelspec": {
   "display_name": "JupyterLab",
   "language": "python",
   "name": "jupyterlab"
  },
  "language_info": {
   "codemirror_mode": {
    "name": "ipython",
    "version": 3
   },
   "file_extension": ".py",
   "mimetype": "text/x-python",
   "name": "python",
   "nbconvert_exporter": "python",
   "pygments_lexer": "ipython3",
   "version": "3.11.4"
  },
  "papermill": {
   "default_parameters": {},
   "duration": 9.137256,
   "end_time": "2024-08-23T10:43:58.599278",
   "environment_variables": {},
   "exception": null,
   "input_path": "aoi copy.ipynb",
   "output_path": "outputs/output_notebook.ipynb",
   "parameters": {
    "param1": 4
   },
   "start_time": "2024-08-23T10:43:49.462022",
   "version": "2.6.0"
  }
 },
 "nbformat": 4,
 "nbformat_minor": 5
}